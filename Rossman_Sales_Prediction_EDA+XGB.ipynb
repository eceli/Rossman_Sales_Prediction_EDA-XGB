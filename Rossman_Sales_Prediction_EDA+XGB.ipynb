{
 "cells": [
  {
   "cell_type": "markdown",
   "metadata": {
    "colab_type": "text",
    "id": "_-DUYezb94qr"
   },
   "source": [
    "### LIBRERIAS"
   ]
  },
  {
   "cell_type": "code",
   "execution_count": 1,
   "metadata": {
    "colab": {
     "base_uri": "https://localhost:8080/",
     "height": 285
    },
    "colab_type": "code",
    "id": "ntrKR9EH94qs",
    "outputId": "c0dd5e87-6c5b-4049-9c85-91ce7bfb85b5"
   },
   "outputs": [],
   "source": [
    "import pandas as pd\n",
    "from pandas_summary import DataFrameSummary\n",
    "import numpy as np\n",
    "import matplotlib.pyplot as plt\n",
    "import seaborn as sns\n",
    "from sklearn.model_selection import train_test_split\n",
    "\n",
    "import xgboost as xgb\n",
    "from xgboost.sklearn import XGBRegressor\n",
    "\n",
    "import warnings\n",
    "warnings.filterwarnings(action=\"ignore\")\n",
    "\n",
    "%matplotlib inline\n",
    "\n",
    "np.set_printoptions(precision=4, threshold=10000, linewidth=100, edgeitems=999, suppress=True)\n",
    "\n",
    "pd.set_option('display.max_columns', None)\n",
    "pd.set_option('display.max_rows', None)\n",
    "pd.set_option('display.width', 100)\n",
    "pd.set_option('expand_frame_repr', False)\n",
    "pd.set_option('precision', 6)\n",
    "seed=42"
   ]
  },
  {
   "cell_type": "code",
   "execution_count": 2,
   "metadata": {
    "colab": {
     "base_uri": "https://localhost:8080/",
     "height": 34
    },
    "colab_type": "code",
    "id": "e2JZ-GZ199fZ",
    "outputId": "e79afe9d-9be4-429c-9ab4-3884691e1226"
   },
   "outputs": [],
   "source": [
    "#from google.colab import drive\n",
    "#drive.mount('/content/drive')"
   ]
  },
  {
   "cell_type": "markdown",
   "metadata": {
    "colab_type": "text",
    "id": "crd6K0AS94rV"
   },
   "source": [
    "### Competencia de Kaggle"
   ]
  },
  {
   "cell_type": "markdown",
   "metadata": {},
   "source": [
    "You are provided with historical sales data for 1,115 Rossmann stores. The task is to forecast the \"Sales\" column for the test set. Note that some stores in the dataset were temporarily closed for refurbishment."
   ]
  },
  {
   "cell_type": "markdown",
   "metadata": {},
   "source": [
    "# Métrica de la competencia"
   ]
  },
  {
   "cell_type": "markdown",
   "metadata": {},
   "source": [
    "$$\n",
    "\\textrm{RMSPE} = \\sqrt{\\frac{1}{n} \\sum_{i=1}^{n} \\left(\\frac{\\hat{y}_i - y_i}{y_i}\\right)^2}\n",
    "$$\n",
    "\n",
    "donde:\n",
    "\n",
    "- $y_i$ las ventas de un día particular de un store\n",
    "- $\\hat{y}_i$ ventas estimadas por el modelo\n",
    "- $n$ es el número de predicciones realizadas"
   ]
  },
  {
   "cell_type": "markdown",
   "metadata": {
    "colab_type": "text",
    "id": "D8CAcLfx94rW"
   },
   "source": [
    "**Predecir las ventas.**"
   ]
  },
  {
   "cell_type": "markdown",
   "metadata": {},
   "source": [
    "## Files\n",
    "- train.csv - historical data including Sales\n",
    "- test.csv - historical data excluding Sales\n",
    "- sample_submission.csv - a sample submission file in the correct format\n",
    "- store.csv - supplemental information about the stores\n",
    "\n",
    "## Data fields\n",
    "Most of the fields are self-explanatory. The following are descriptions for those that aren't.\n",
    "\n",
    "- Id - an Id that represents a (Store, Date) duple within the test set\n",
    "- Store - a unique Id for each store\n",
    "- Sales - the turnover for any given day (this is what you are predicting)\n",
    "- Customers - the number of customers on a given day\n",
    "- Open - an indicator for whether the store was open: 0 = closed, 1 = open\n",
    "- StateHoliday - indicates a state holiday. Normally all stores, with few exceptions, are closed on state holidays. Note that all schools are closed on public holidays and weekends. a = public holiday, b = Easter holiday, c = Christmas, 0 = None\n",
    "- SchoolHoliday - indicates if the (Store, Date) was affected by the closure of public schools\n",
    "- StoreType - differentiates between 4 different store models: a, b, c, d\n",
    "- Assortment - describes an assortment level: a = basic, b = extra, c = extended\n",
    "- CompetitionDistance - distance in meters to the nearest competitor store\n",
    "- CompetitionOpenSince[Month/Year] - gives the approximate year and month of the time the nearest competitor was opened\n",
    "- Promo - indicates whether a store is running a promo on that day\n",
    "- Promo2 - Promo2 is a continuing and consecutive promotion for some stores: 0 = store is not participating, 1 = store is participating\n",
    "- Promo2Since[Year/Week] - describes the year and calendar week when the store started participating in Promo2\n",
    "- PromoInterval - describes the consecutive intervals Promo2 is started, naming the months the promotion is started anew. E.g. \"Feb,May,Aug,Nov\" means each round starts in February, May, August, November of any given year for that store"
   ]
  },
  {
   "cell_type": "markdown",
   "metadata": {},
   "source": [
    "# Objetivo\n",
    "\n",
    "Tendrán que mejorar en el private score de la competencia el valor: 0.129\n",
    "\n",
    "Recomendamos clonar el siguiente repositorio:\n",
    "\n",
    "https://github.com/deeplearning-itba/kaggle-rossmann\n",
    "\n",
    "El dataset está en el archivo rossmann.zip (Recomendamos descombrimirlo en la carpeta dataset. Caso contrario cambiar el path en las notebooks"
   ]
  },
  {
   "cell_type": "markdown",
   "metadata": {
    "colab_type": "text",
    "id": "KnuTy-aC94rX"
   },
   "source": [
    "### Baseline\n",
    "Primero se hace un baselinea corriendo los modelos sobre data con el mínimo procesamiento necesario."
   ]
  },
  {
   "cell_type": "markdown",
   "metadata": {
    "colab_type": "text",
    "id": "lo5TDOKu94rY"
   },
   "source": [
    "#### Cargamos el Data Set"
   ]
  },
  {
   "cell_type": "markdown",
   "metadata": {},
   "source": [
    "The following tables are available in the datasets:\n",
    "\n",
    "| Archivo      | Descripción| Origen de Datos|\n",
    "|--------------|--------------------------------------------------------------------|--|\n",
    "| train.csv        | training set: información del store día a día, ventas, clientes, si es feriado, etc | Kaggle |\n",
    "| store.csv       | Información general del store, por ejemplo datos del competidor | Kaggle |"
   ]
  },
  {
   "cell_type": "code",
   "execution_count": 3,
   "metadata": {},
   "outputs": [],
   "source": [
    "PATH = 'dataset/rossmann/'"
   ]
  },
  {
   "cell_type": "code",
   "execution_count": 4,
   "metadata": {},
   "outputs": [],
   "source": [
    "table_names = ['train', 'test', 'store']\n",
    "train, test, store= [pd.read_csv(PATH + fname+'.csv', low_memory=False) for fname in table_names]"
   ]
  },
  {
   "cell_type": "code",
   "execution_count": 5,
   "metadata": {},
   "outputs": [
    {
     "data": {
      "text/html": [
       "<div>\n",
       "<style scoped>\n",
       "    .dataframe tbody tr th:only-of-type {\n",
       "        vertical-align: middle;\n",
       "    }\n",
       "\n",
       "    .dataframe tbody tr th {\n",
       "        vertical-align: top;\n",
       "    }\n",
       "\n",
       "    .dataframe thead th {\n",
       "        text-align: right;\n",
       "    }\n",
       "</style>\n",
       "<table border=\"1\" class=\"dataframe\">\n",
       "  <thead>\n",
       "    <tr style=\"text-align: right;\">\n",
       "      <th></th>\n",
       "      <th>Store</th>\n",
       "      <th>DayOfWeek</th>\n",
       "      <th>Date</th>\n",
       "      <th>Sales</th>\n",
       "      <th>Customers</th>\n",
       "      <th>Open</th>\n",
       "      <th>Promo</th>\n",
       "      <th>StateHoliday</th>\n",
       "      <th>SchoolHoliday</th>\n",
       "    </tr>\n",
       "  </thead>\n",
       "  <tbody>\n",
       "    <tr>\n",
       "      <th>0</th>\n",
       "      <td>1</td>\n",
       "      <td>5</td>\n",
       "      <td>2015-07-31</td>\n",
       "      <td>5263</td>\n",
       "      <td>555</td>\n",
       "      <td>1</td>\n",
       "      <td>1</td>\n",
       "      <td>0</td>\n",
       "      <td>1</td>\n",
       "    </tr>\n",
       "    <tr>\n",
       "      <th>1</th>\n",
       "      <td>2</td>\n",
       "      <td>5</td>\n",
       "      <td>2015-07-31</td>\n",
       "      <td>6064</td>\n",
       "      <td>625</td>\n",
       "      <td>1</td>\n",
       "      <td>1</td>\n",
       "      <td>0</td>\n",
       "      <td>1</td>\n",
       "    </tr>\n",
       "    <tr>\n",
       "      <th>2</th>\n",
       "      <td>3</td>\n",
       "      <td>5</td>\n",
       "      <td>2015-07-31</td>\n",
       "      <td>8314</td>\n",
       "      <td>821</td>\n",
       "      <td>1</td>\n",
       "      <td>1</td>\n",
       "      <td>0</td>\n",
       "      <td>1</td>\n",
       "    </tr>\n",
       "    <tr>\n",
       "      <th>3</th>\n",
       "      <td>4</td>\n",
       "      <td>5</td>\n",
       "      <td>2015-07-31</td>\n",
       "      <td>13995</td>\n",
       "      <td>1498</td>\n",
       "      <td>1</td>\n",
       "      <td>1</td>\n",
       "      <td>0</td>\n",
       "      <td>1</td>\n",
       "    </tr>\n",
       "    <tr>\n",
       "      <th>4</th>\n",
       "      <td>5</td>\n",
       "      <td>5</td>\n",
       "      <td>2015-07-31</td>\n",
       "      <td>4822</td>\n",
       "      <td>559</td>\n",
       "      <td>1</td>\n",
       "      <td>1</td>\n",
       "      <td>0</td>\n",
       "      <td>1</td>\n",
       "    </tr>\n",
       "  </tbody>\n",
       "</table>\n",
       "</div>"
      ],
      "text/plain": [
       "   Store  DayOfWeek        Date  Sales  Customers  Open  Promo StateHoliday  SchoolHoliday\n",
       "0      1          5  2015-07-31   5263        555     1      1            0              1\n",
       "1      2          5  2015-07-31   6064        625     1      1            0              1\n",
       "2      3          5  2015-07-31   8314        821     1      1            0              1\n",
       "3      4          5  2015-07-31  13995       1498     1      1            0              1\n",
       "4      5          5  2015-07-31   4822        559     1      1            0              1"
      ]
     },
     "metadata": {},
     "output_type": "display_data"
    },
    {
     "data": {
      "text/html": [
       "<div>\n",
       "<style scoped>\n",
       "    .dataframe tbody tr th:only-of-type {\n",
       "        vertical-align: middle;\n",
       "    }\n",
       "\n",
       "    .dataframe tbody tr th {\n",
       "        vertical-align: top;\n",
       "    }\n",
       "\n",
       "    .dataframe thead th {\n",
       "        text-align: right;\n",
       "    }\n",
       "</style>\n",
       "<table border=\"1\" class=\"dataframe\">\n",
       "  <thead>\n",
       "    <tr style=\"text-align: right;\">\n",
       "      <th></th>\n",
       "      <th>Store</th>\n",
       "      <th>DayOfWeek</th>\n",
       "      <th>Date</th>\n",
       "      <th>Sales</th>\n",
       "      <th>Customers</th>\n",
       "      <th>Open</th>\n",
       "      <th>Promo</th>\n",
       "      <th>StateHoliday</th>\n",
       "      <th>SchoolHoliday</th>\n",
       "    </tr>\n",
       "  </thead>\n",
       "  <tbody>\n",
       "    <tr>\n",
       "      <th>count</th>\n",
       "      <td>1017209.0</td>\n",
       "      <td>1017209.0</td>\n",
       "      <td>NaN</td>\n",
       "      <td>1017209.0</td>\n",
       "      <td>1017209.0</td>\n",
       "      <td>1017209.0</td>\n",
       "      <td>1017209.0</td>\n",
       "      <td>NaN</td>\n",
       "      <td>1017209.0</td>\n",
       "    </tr>\n",
       "    <tr>\n",
       "      <th>mean</th>\n",
       "      <td>558.429727</td>\n",
       "      <td>3.998341</td>\n",
       "      <td>NaN</td>\n",
       "      <td>5773.818972</td>\n",
       "      <td>633.145946</td>\n",
       "      <td>0.830107</td>\n",
       "      <td>0.381515</td>\n",
       "      <td>NaN</td>\n",
       "      <td>0.178647</td>\n",
       "    </tr>\n",
       "    <tr>\n",
       "      <th>std</th>\n",
       "      <td>321.908651</td>\n",
       "      <td>1.997391</td>\n",
       "      <td>NaN</td>\n",
       "      <td>3849.926175</td>\n",
       "      <td>464.411734</td>\n",
       "      <td>0.375539</td>\n",
       "      <td>0.485759</td>\n",
       "      <td>NaN</td>\n",
       "      <td>0.383056</td>\n",
       "    </tr>\n",
       "    <tr>\n",
       "      <th>min</th>\n",
       "      <td>1.0</td>\n",
       "      <td>1.0</td>\n",
       "      <td>NaN</td>\n",
       "      <td>0.0</td>\n",
       "      <td>0.0</td>\n",
       "      <td>0.0</td>\n",
       "      <td>0.0</td>\n",
       "      <td>NaN</td>\n",
       "      <td>0.0</td>\n",
       "    </tr>\n",
       "    <tr>\n",
       "      <th>25%</th>\n",
       "      <td>280.0</td>\n",
       "      <td>2.0</td>\n",
       "      <td>NaN</td>\n",
       "      <td>3727.0</td>\n",
       "      <td>405.0</td>\n",
       "      <td>1.0</td>\n",
       "      <td>0.0</td>\n",
       "      <td>NaN</td>\n",
       "      <td>0.0</td>\n",
       "    </tr>\n",
       "    <tr>\n",
       "      <th>50%</th>\n",
       "      <td>558.0</td>\n",
       "      <td>4.0</td>\n",
       "      <td>NaN</td>\n",
       "      <td>5744.0</td>\n",
       "      <td>609.0</td>\n",
       "      <td>1.0</td>\n",
       "      <td>0.0</td>\n",
       "      <td>NaN</td>\n",
       "      <td>0.0</td>\n",
       "    </tr>\n",
       "    <tr>\n",
       "      <th>75%</th>\n",
       "      <td>838.0</td>\n",
       "      <td>6.0</td>\n",
       "      <td>NaN</td>\n",
       "      <td>7856.0</td>\n",
       "      <td>837.0</td>\n",
       "      <td>1.0</td>\n",
       "      <td>1.0</td>\n",
       "      <td>NaN</td>\n",
       "      <td>0.0</td>\n",
       "    </tr>\n",
       "    <tr>\n",
       "      <th>max</th>\n",
       "      <td>1115.0</td>\n",
       "      <td>7.0</td>\n",
       "      <td>NaN</td>\n",
       "      <td>41551.0</td>\n",
       "      <td>7388.0</td>\n",
       "      <td>1.0</td>\n",
       "      <td>1.0</td>\n",
       "      <td>NaN</td>\n",
       "      <td>1.0</td>\n",
       "    </tr>\n",
       "    <tr>\n",
       "      <th>counts</th>\n",
       "      <td>1017209</td>\n",
       "      <td>1017209</td>\n",
       "      <td>1017209</td>\n",
       "      <td>1017209</td>\n",
       "      <td>1017209</td>\n",
       "      <td>1017209</td>\n",
       "      <td>1017209</td>\n",
       "      <td>1017209</td>\n",
       "      <td>1017209</td>\n",
       "    </tr>\n",
       "    <tr>\n",
       "      <th>uniques</th>\n",
       "      <td>1115</td>\n",
       "      <td>7</td>\n",
       "      <td>942</td>\n",
       "      <td>21734</td>\n",
       "      <td>4086</td>\n",
       "      <td>2</td>\n",
       "      <td>2</td>\n",
       "      <td>4</td>\n",
       "      <td>2</td>\n",
       "    </tr>\n",
       "    <tr>\n",
       "      <th>missing</th>\n",
       "      <td>0</td>\n",
       "      <td>0</td>\n",
       "      <td>0</td>\n",
       "      <td>0</td>\n",
       "      <td>0</td>\n",
       "      <td>0</td>\n",
       "      <td>0</td>\n",
       "      <td>0</td>\n",
       "      <td>0</td>\n",
       "    </tr>\n",
       "    <tr>\n",
       "      <th>missing_perc</th>\n",
       "      <td>0%</td>\n",
       "      <td>0%</td>\n",
       "      <td>0%</td>\n",
       "      <td>0%</td>\n",
       "      <td>0%</td>\n",
       "      <td>0%</td>\n",
       "      <td>0%</td>\n",
       "      <td>0%</td>\n",
       "      <td>0%</td>\n",
       "    </tr>\n",
       "    <tr>\n",
       "      <th>types</th>\n",
       "      <td>numeric</td>\n",
       "      <td>numeric</td>\n",
       "      <td>categorical</td>\n",
       "      <td>numeric</td>\n",
       "      <td>numeric</td>\n",
       "      <td>bool</td>\n",
       "      <td>bool</td>\n",
       "      <td>categorical</td>\n",
       "      <td>bool</td>\n",
       "    </tr>\n",
       "  </tbody>\n",
       "</table>\n",
       "</div>"
      ],
      "text/plain": [
       "                   Store  DayOfWeek         Date        Sales   Customers       Open      Promo StateHoliday SchoolHoliday\n",
       "count          1017209.0  1017209.0          NaN    1017209.0   1017209.0  1017209.0  1017209.0          NaN     1017209.0\n",
       "mean          558.429727   3.998341          NaN  5773.818972  633.145946   0.830107   0.381515          NaN      0.178647\n",
       "std           321.908651   1.997391          NaN  3849.926175  464.411734   0.375539   0.485759          NaN      0.383056\n",
       "min                  1.0        1.0          NaN          0.0         0.0        0.0        0.0          NaN           0.0\n",
       "25%                280.0        2.0          NaN       3727.0       405.0        1.0        0.0          NaN           0.0\n",
       "50%                558.0        4.0          NaN       5744.0       609.0        1.0        0.0          NaN           0.0\n",
       "75%                838.0        6.0          NaN       7856.0       837.0        1.0        1.0          NaN           0.0\n",
       "max               1115.0        7.0          NaN      41551.0      7388.0        1.0        1.0          NaN           1.0\n",
       "counts           1017209    1017209      1017209      1017209     1017209    1017209    1017209      1017209       1017209\n",
       "uniques             1115          7          942        21734        4086          2          2            4             2\n",
       "missing                0          0            0            0           0          0          0            0             0\n",
       "missing_perc          0%         0%           0%           0%          0%         0%         0%           0%            0%\n",
       "types            numeric    numeric  categorical      numeric     numeric       bool       bool  categorical          bool"
      ]
     },
     "metadata": {},
     "output_type": "display_data"
    }
   ],
   "source": [
    "display(train.head())\n",
    "display(DataFrameSummary(train).summary())"
   ]
  },
  {
   "cell_type": "code",
   "execution_count": 6,
   "metadata": {
    "colab": {
     "base_uri": "https://localhost:8080/",
     "height": 870
    },
    "colab_type": "code",
    "id": "S2NtPGQF94rk",
    "outputId": "1b56c204-33a7-475d-98dd-75aae749b264"
   },
   "outputs": [
    {
     "name": "stdout",
     "output_type": "stream",
     "text": [
      "<class 'pandas.core.frame.DataFrame'>\n",
      "RangeIndex: 1017209 entries, 0 to 1017208\n",
      "Data columns (total 9 columns):\n",
      " #   Column         Non-Null Count    Dtype \n",
      "---  ------         --------------    ----- \n",
      " 0   Store          1017209 non-null  int64 \n",
      " 1   DayOfWeek      1017209 non-null  int64 \n",
      " 2   Date           1017209 non-null  object\n",
      " 3   Sales          1017209 non-null  int64 \n",
      " 4   Customers      1017209 non-null  int64 \n",
      " 5   Open           1017209 non-null  int64 \n",
      " 6   Promo          1017209 non-null  int64 \n",
      " 7   StateHoliday   1017209 non-null  object\n",
      " 8   SchoolHoliday  1017209 non-null  int64 \n",
      "dtypes: int64(7), object(2)\n",
      "memory usage: 69.8+ MB\n"
     ]
    }
   ],
   "source": [
    "train.info()"
   ]
  },
  {
   "cell_type": "code",
   "execution_count": 7,
   "metadata": {},
   "outputs": [
    {
     "data": {
      "text/html": [
       "<div>\n",
       "<style scoped>\n",
       "    .dataframe tbody tr th:only-of-type {\n",
       "        vertical-align: middle;\n",
       "    }\n",
       "\n",
       "    .dataframe tbody tr th {\n",
       "        vertical-align: top;\n",
       "    }\n",
       "\n",
       "    .dataframe thead th {\n",
       "        text-align: right;\n",
       "    }\n",
       "</style>\n",
       "<table border=\"1\" class=\"dataframe\">\n",
       "  <thead>\n",
       "    <tr style=\"text-align: right;\">\n",
       "      <th></th>\n",
       "      <th>Id</th>\n",
       "      <th>Store</th>\n",
       "      <th>DayOfWeek</th>\n",
       "      <th>Date</th>\n",
       "      <th>Open</th>\n",
       "      <th>Promo</th>\n",
       "      <th>StateHoliday</th>\n",
       "      <th>SchoolHoliday</th>\n",
       "    </tr>\n",
       "  </thead>\n",
       "  <tbody>\n",
       "    <tr>\n",
       "      <th>0</th>\n",
       "      <td>1</td>\n",
       "      <td>1</td>\n",
       "      <td>4</td>\n",
       "      <td>2015-09-17</td>\n",
       "      <td>1.0</td>\n",
       "      <td>1</td>\n",
       "      <td>0</td>\n",
       "      <td>0</td>\n",
       "    </tr>\n",
       "    <tr>\n",
       "      <th>1</th>\n",
       "      <td>2</td>\n",
       "      <td>3</td>\n",
       "      <td>4</td>\n",
       "      <td>2015-09-17</td>\n",
       "      <td>1.0</td>\n",
       "      <td>1</td>\n",
       "      <td>0</td>\n",
       "      <td>0</td>\n",
       "    </tr>\n",
       "    <tr>\n",
       "      <th>2</th>\n",
       "      <td>3</td>\n",
       "      <td>7</td>\n",
       "      <td>4</td>\n",
       "      <td>2015-09-17</td>\n",
       "      <td>1.0</td>\n",
       "      <td>1</td>\n",
       "      <td>0</td>\n",
       "      <td>0</td>\n",
       "    </tr>\n",
       "    <tr>\n",
       "      <th>3</th>\n",
       "      <td>4</td>\n",
       "      <td>8</td>\n",
       "      <td>4</td>\n",
       "      <td>2015-09-17</td>\n",
       "      <td>1.0</td>\n",
       "      <td>1</td>\n",
       "      <td>0</td>\n",
       "      <td>0</td>\n",
       "    </tr>\n",
       "    <tr>\n",
       "      <th>4</th>\n",
       "      <td>5</td>\n",
       "      <td>9</td>\n",
       "      <td>4</td>\n",
       "      <td>2015-09-17</td>\n",
       "      <td>1.0</td>\n",
       "      <td>1</td>\n",
       "      <td>0</td>\n",
       "      <td>0</td>\n",
       "    </tr>\n",
       "  </tbody>\n",
       "</table>\n",
       "</div>"
      ],
      "text/plain": [
       "   Id  Store  DayOfWeek        Date  Open  Promo StateHoliday  SchoolHoliday\n",
       "0   1      1          4  2015-09-17   1.0      1            0              0\n",
       "1   2      3          4  2015-09-17   1.0      1            0              0\n",
       "2   3      7          4  2015-09-17   1.0      1            0              0\n",
       "3   4      8          4  2015-09-17   1.0      1            0              0\n",
       "4   5      9          4  2015-09-17   1.0      1            0              0"
      ]
     },
     "metadata": {},
     "output_type": "display_data"
    },
    {
     "data": {
      "text/html": [
       "<div>\n",
       "<style scoped>\n",
       "    .dataframe tbody tr th:only-of-type {\n",
       "        vertical-align: middle;\n",
       "    }\n",
       "\n",
       "    .dataframe tbody tr th {\n",
       "        vertical-align: top;\n",
       "    }\n",
       "\n",
       "    .dataframe thead th {\n",
       "        text-align: right;\n",
       "    }\n",
       "</style>\n",
       "<table border=\"1\" class=\"dataframe\">\n",
       "  <thead>\n",
       "    <tr style=\"text-align: right;\">\n",
       "      <th></th>\n",
       "      <th>Id</th>\n",
       "      <th>Store</th>\n",
       "      <th>DayOfWeek</th>\n",
       "      <th>Date</th>\n",
       "      <th>Open</th>\n",
       "      <th>Promo</th>\n",
       "      <th>StateHoliday</th>\n",
       "      <th>SchoolHoliday</th>\n",
       "    </tr>\n",
       "  </thead>\n",
       "  <tbody>\n",
       "    <tr>\n",
       "      <th>count</th>\n",
       "      <td>41088.0</td>\n",
       "      <td>41088.0</td>\n",
       "      <td>41088.0</td>\n",
       "      <td>NaN</td>\n",
       "      <td>41077.0</td>\n",
       "      <td>41088.0</td>\n",
       "      <td>NaN</td>\n",
       "      <td>41088.0</td>\n",
       "    </tr>\n",
       "    <tr>\n",
       "      <th>mean</th>\n",
       "      <td>20544.5</td>\n",
       "      <td>555.899533</td>\n",
       "      <td>3.979167</td>\n",
       "      <td>NaN</td>\n",
       "      <td>0.854322</td>\n",
       "      <td>0.395833</td>\n",
       "      <td>NaN</td>\n",
       "      <td>0.443487</td>\n",
       "    </tr>\n",
       "    <tr>\n",
       "      <th>std</th>\n",
       "      <td>11861.228267</td>\n",
       "      <td>320.274496</td>\n",
       "      <td>2.015481</td>\n",
       "      <td>NaN</td>\n",
       "      <td>0.352787</td>\n",
       "      <td>0.489035</td>\n",
       "      <td>NaN</td>\n",
       "      <td>0.496802</td>\n",
       "    </tr>\n",
       "    <tr>\n",
       "      <th>min</th>\n",
       "      <td>1.0</td>\n",
       "      <td>1.0</td>\n",
       "      <td>1.0</td>\n",
       "      <td>NaN</td>\n",
       "      <td>0.0</td>\n",
       "      <td>0.0</td>\n",
       "      <td>NaN</td>\n",
       "      <td>0.0</td>\n",
       "    </tr>\n",
       "    <tr>\n",
       "      <th>25%</th>\n",
       "      <td>10272.75</td>\n",
       "      <td>279.75</td>\n",
       "      <td>2.0</td>\n",
       "      <td>NaN</td>\n",
       "      <td>1.0</td>\n",
       "      <td>0.0</td>\n",
       "      <td>NaN</td>\n",
       "      <td>0.0</td>\n",
       "    </tr>\n",
       "    <tr>\n",
       "      <th>50%</th>\n",
       "      <td>20544.5</td>\n",
       "      <td>553.5</td>\n",
       "      <td>4.0</td>\n",
       "      <td>NaN</td>\n",
       "      <td>1.0</td>\n",
       "      <td>0.0</td>\n",
       "      <td>NaN</td>\n",
       "      <td>0.0</td>\n",
       "    </tr>\n",
       "    <tr>\n",
       "      <th>75%</th>\n",
       "      <td>30816.25</td>\n",
       "      <td>832.25</td>\n",
       "      <td>6.0</td>\n",
       "      <td>NaN</td>\n",
       "      <td>1.0</td>\n",
       "      <td>1.0</td>\n",
       "      <td>NaN</td>\n",
       "      <td>1.0</td>\n",
       "    </tr>\n",
       "    <tr>\n",
       "      <th>max</th>\n",
       "      <td>41088.0</td>\n",
       "      <td>1115.0</td>\n",
       "      <td>7.0</td>\n",
       "      <td>NaN</td>\n",
       "      <td>1.0</td>\n",
       "      <td>1.0</td>\n",
       "      <td>NaN</td>\n",
       "      <td>1.0</td>\n",
       "    </tr>\n",
       "    <tr>\n",
       "      <th>counts</th>\n",
       "      <td>41088</td>\n",
       "      <td>41088</td>\n",
       "      <td>41088</td>\n",
       "      <td>41088</td>\n",
       "      <td>41077</td>\n",
       "      <td>41088</td>\n",
       "      <td>41088</td>\n",
       "      <td>41088</td>\n",
       "    </tr>\n",
       "    <tr>\n",
       "      <th>uniques</th>\n",
       "      <td>41088</td>\n",
       "      <td>856</td>\n",
       "      <td>7</td>\n",
       "      <td>48</td>\n",
       "      <td>2</td>\n",
       "      <td>2</td>\n",
       "      <td>2</td>\n",
       "      <td>2</td>\n",
       "    </tr>\n",
       "    <tr>\n",
       "      <th>missing</th>\n",
       "      <td>0</td>\n",
       "      <td>0</td>\n",
       "      <td>0</td>\n",
       "      <td>0</td>\n",
       "      <td>11</td>\n",
       "      <td>0</td>\n",
       "      <td>0</td>\n",
       "      <td>0</td>\n",
       "    </tr>\n",
       "    <tr>\n",
       "      <th>missing_perc</th>\n",
       "      <td>0%</td>\n",
       "      <td>0%</td>\n",
       "      <td>0%</td>\n",
       "      <td>0%</td>\n",
       "      <td>0.03%</td>\n",
       "      <td>0%</td>\n",
       "      <td>0%</td>\n",
       "      <td>0%</td>\n",
       "    </tr>\n",
       "    <tr>\n",
       "      <th>types</th>\n",
       "      <td>numeric</td>\n",
       "      <td>numeric</td>\n",
       "      <td>numeric</td>\n",
       "      <td>categorical</td>\n",
       "      <td>bool</td>\n",
       "      <td>bool</td>\n",
       "      <td>bool</td>\n",
       "      <td>bool</td>\n",
       "    </tr>\n",
       "  </tbody>\n",
       "</table>\n",
       "</div>"
      ],
      "text/plain": [
       "                        Id       Store DayOfWeek         Date      Open     Promo StateHoliday SchoolHoliday\n",
       "count              41088.0     41088.0   41088.0          NaN   41077.0   41088.0          NaN       41088.0\n",
       "mean               20544.5  555.899533  3.979167          NaN  0.854322  0.395833          NaN      0.443487\n",
       "std           11861.228267  320.274496  2.015481          NaN  0.352787  0.489035          NaN      0.496802\n",
       "min                    1.0         1.0       1.0          NaN       0.0       0.0          NaN           0.0\n",
       "25%               10272.75      279.75       2.0          NaN       1.0       0.0          NaN           0.0\n",
       "50%                20544.5       553.5       4.0          NaN       1.0       0.0          NaN           0.0\n",
       "75%               30816.25      832.25       6.0          NaN       1.0       1.0          NaN           1.0\n",
       "max                41088.0      1115.0       7.0          NaN       1.0       1.0          NaN           1.0\n",
       "counts               41088       41088     41088        41088     41077     41088        41088         41088\n",
       "uniques              41088         856         7           48         2         2            2             2\n",
       "missing                  0           0         0            0        11         0            0             0\n",
       "missing_perc            0%          0%        0%           0%     0.03%        0%           0%            0%\n",
       "types              numeric     numeric   numeric  categorical      bool      bool         bool          bool"
      ]
     },
     "metadata": {},
     "output_type": "display_data"
    }
   ],
   "source": [
    "display(test.head())\n",
    "display(DataFrameSummary(test).summary())"
   ]
  },
  {
   "cell_type": "code",
   "execution_count": 8,
   "metadata": {},
   "outputs": [
    {
     "name": "stdout",
     "output_type": "stream",
     "text": [
      "<class 'pandas.core.frame.DataFrame'>\n",
      "RangeIndex: 41088 entries, 0 to 41087\n",
      "Data columns (total 8 columns):\n",
      " #   Column         Non-Null Count  Dtype  \n",
      "---  ------         --------------  -----  \n",
      " 0   Id             41088 non-null  int64  \n",
      " 1   Store          41088 non-null  int64  \n",
      " 2   DayOfWeek      41088 non-null  int64  \n",
      " 3   Date           41088 non-null  object \n",
      " 4   Open           41077 non-null  float64\n",
      " 5   Promo          41088 non-null  int64  \n",
      " 6   StateHoliday   41088 non-null  object \n",
      " 7   SchoolHoliday  41088 non-null  int64  \n",
      "dtypes: float64(1), int64(5), object(2)\n",
      "memory usage: 2.5+ MB\n"
     ]
    }
   ],
   "source": [
    "test.info()"
   ]
  },
  {
   "cell_type": "code",
   "execution_count": 9,
   "metadata": {},
   "outputs": [
    {
     "name": "stdout",
     "output_type": "stream",
     "text": [
      "Train -  Promo\n",
      "0    0.618485\n",
      "1    0.381515\n",
      "Name: Promo, dtype: float64\n",
      "Test -  Promo\n",
      "0    0.604167\n",
      "1    0.395833\n",
      "Name: Promo, dtype: float64\n",
      "Train -  StateHoliday\n",
      "0    0.969475\n",
      "a    0.019917\n",
      "b    0.006577\n",
      "c    0.004031\n",
      "Name: StateHoliday, dtype: float64\n",
      "Test -  StateHoliday\n",
      "0    0.995619\n",
      "a    0.004381\n",
      "Name: StateHoliday, dtype: float64\n",
      "Train -  SchoolHoliday\n",
      "0    0.821353\n",
      "1    0.178647\n",
      "Name: SchoolHoliday, dtype: float64\n",
      "Test -  SchoolHoliday\n",
      "0    0.556513\n",
      "1    0.443487\n",
      "Name: SchoolHoliday, dtype: float64\n"
     ]
    }
   ],
   "source": [
    "columnas = ['Promo','StateHoliday','SchoolHoliday']\n",
    "\n",
    "for i in columnas:\n",
    "    print('Train - ', i)\n",
    "    print(train[i].value_counts(normalize=True))\n",
    "    print('Test - ', i)\n",
    "    print(test[i].value_counts(normalize=True))"
   ]
  },
  {
   "cell_type": "markdown",
   "metadata": {},
   "source": [
    "Se observa que SchoolHoliday en Train está desbalanceada"
   ]
  },
  {
   "cell_type": "code",
   "execution_count": 10,
   "metadata": {},
   "outputs": [
    {
     "name": "stdout",
     "output_type": "stream",
     "text": [
      "Train\n",
      "2013-01-01\n",
      "2015-07-31\n",
      "Test\n",
      "2015-08-01\n",
      "2015-09-17\n"
     ]
    }
   ],
   "source": [
    "print ('Train')\n",
    "print(min(train['Date']))\n",
    "print(max(train['Date']))\n",
    "\n",
    "print ('Test')\n",
    "print(min(test['Date']))\n",
    "print(max(test['Date']))"
   ]
  },
  {
   "cell_type": "code",
   "execution_count": 11,
   "metadata": {},
   "outputs": [
    {
     "data": {
      "text/html": [
       "<div>\n",
       "<style scoped>\n",
       "    .dataframe tbody tr th:only-of-type {\n",
       "        vertical-align: middle;\n",
       "    }\n",
       "\n",
       "    .dataframe tbody tr th {\n",
       "        vertical-align: top;\n",
       "    }\n",
       "\n",
       "    .dataframe thead th {\n",
       "        text-align: right;\n",
       "    }\n",
       "</style>\n",
       "<table border=\"1\" class=\"dataframe\">\n",
       "  <thead>\n",
       "    <tr style=\"text-align: right;\">\n",
       "      <th></th>\n",
       "      <th>Store</th>\n",
       "      <th>StoreType</th>\n",
       "      <th>Assortment</th>\n",
       "      <th>CompetitionDistance</th>\n",
       "      <th>CompetitionOpenSinceMonth</th>\n",
       "      <th>CompetitionOpenSinceYear</th>\n",
       "      <th>Promo2</th>\n",
       "      <th>Promo2SinceWeek</th>\n",
       "      <th>Promo2SinceYear</th>\n",
       "      <th>PromoInterval</th>\n",
       "    </tr>\n",
       "  </thead>\n",
       "  <tbody>\n",
       "    <tr>\n",
       "      <th>0</th>\n",
       "      <td>1</td>\n",
       "      <td>c</td>\n",
       "      <td>a</td>\n",
       "      <td>1270.0</td>\n",
       "      <td>9.0</td>\n",
       "      <td>2008.0</td>\n",
       "      <td>0</td>\n",
       "      <td>NaN</td>\n",
       "      <td>NaN</td>\n",
       "      <td>NaN</td>\n",
       "    </tr>\n",
       "    <tr>\n",
       "      <th>1</th>\n",
       "      <td>2</td>\n",
       "      <td>a</td>\n",
       "      <td>a</td>\n",
       "      <td>570.0</td>\n",
       "      <td>11.0</td>\n",
       "      <td>2007.0</td>\n",
       "      <td>1</td>\n",
       "      <td>13.0</td>\n",
       "      <td>2010.0</td>\n",
       "      <td>Jan,Apr,Jul,Oct</td>\n",
       "    </tr>\n",
       "    <tr>\n",
       "      <th>2</th>\n",
       "      <td>3</td>\n",
       "      <td>a</td>\n",
       "      <td>a</td>\n",
       "      <td>14130.0</td>\n",
       "      <td>12.0</td>\n",
       "      <td>2006.0</td>\n",
       "      <td>1</td>\n",
       "      <td>14.0</td>\n",
       "      <td>2011.0</td>\n",
       "      <td>Jan,Apr,Jul,Oct</td>\n",
       "    </tr>\n",
       "    <tr>\n",
       "      <th>3</th>\n",
       "      <td>4</td>\n",
       "      <td>c</td>\n",
       "      <td>c</td>\n",
       "      <td>620.0</td>\n",
       "      <td>9.0</td>\n",
       "      <td>2009.0</td>\n",
       "      <td>0</td>\n",
       "      <td>NaN</td>\n",
       "      <td>NaN</td>\n",
       "      <td>NaN</td>\n",
       "    </tr>\n",
       "    <tr>\n",
       "      <th>4</th>\n",
       "      <td>5</td>\n",
       "      <td>a</td>\n",
       "      <td>a</td>\n",
       "      <td>29910.0</td>\n",
       "      <td>4.0</td>\n",
       "      <td>2015.0</td>\n",
       "      <td>0</td>\n",
       "      <td>NaN</td>\n",
       "      <td>NaN</td>\n",
       "      <td>NaN</td>\n",
       "    </tr>\n",
       "  </tbody>\n",
       "</table>\n",
       "</div>"
      ],
      "text/plain": [
       "   Store StoreType Assortment  CompetitionDistance  CompetitionOpenSinceMonth  CompetitionOpenSinceYear  Promo2  Promo2SinceWeek  Promo2SinceYear    PromoInterval\n",
       "0      1         c          a               1270.0                        9.0                    2008.0       0              NaN              NaN              NaN\n",
       "1      2         a          a                570.0                       11.0                    2007.0       1             13.0           2010.0  Jan,Apr,Jul,Oct\n",
       "2      3         a          a              14130.0                       12.0                    2006.0       1             14.0           2011.0  Jan,Apr,Jul,Oct\n",
       "3      4         c          c                620.0                        9.0                    2009.0       0              NaN              NaN              NaN\n",
       "4      5         a          a              29910.0                        4.0                    2015.0       0              NaN              NaN              NaN"
      ]
     },
     "metadata": {},
     "output_type": "display_data"
    },
    {
     "data": {
      "text/html": [
       "<div>\n",
       "<style scoped>\n",
       "    .dataframe tbody tr th:only-of-type {\n",
       "        vertical-align: middle;\n",
       "    }\n",
       "\n",
       "    .dataframe tbody tr th {\n",
       "        vertical-align: top;\n",
       "    }\n",
       "\n",
       "    .dataframe thead th {\n",
       "        text-align: right;\n",
       "    }\n",
       "</style>\n",
       "<table border=\"1\" class=\"dataframe\">\n",
       "  <thead>\n",
       "    <tr style=\"text-align: right;\">\n",
       "      <th></th>\n",
       "      <th>Store</th>\n",
       "      <th>StoreType</th>\n",
       "      <th>Assortment</th>\n",
       "      <th>CompetitionDistance</th>\n",
       "      <th>CompetitionOpenSinceMonth</th>\n",
       "      <th>CompetitionOpenSinceYear</th>\n",
       "      <th>Promo2</th>\n",
       "      <th>Promo2SinceWeek</th>\n",
       "      <th>Promo2SinceYear</th>\n",
       "      <th>PromoInterval</th>\n",
       "    </tr>\n",
       "  </thead>\n",
       "  <tbody>\n",
       "    <tr>\n",
       "      <th>count</th>\n",
       "      <td>1115.0</td>\n",
       "      <td>NaN</td>\n",
       "      <td>NaN</td>\n",
       "      <td>1112.0</td>\n",
       "      <td>761.0</td>\n",
       "      <td>761.0</td>\n",
       "      <td>1115.0</td>\n",
       "      <td>571.0</td>\n",
       "      <td>571.0</td>\n",
       "      <td>NaN</td>\n",
       "    </tr>\n",
       "    <tr>\n",
       "      <th>mean</th>\n",
       "      <td>558.0</td>\n",
       "      <td>NaN</td>\n",
       "      <td>NaN</td>\n",
       "      <td>5404.901079</td>\n",
       "      <td>7.224704</td>\n",
       "      <td>2008.668857</td>\n",
       "      <td>0.512108</td>\n",
       "      <td>23.595447</td>\n",
       "      <td>2011.763573</td>\n",
       "      <td>NaN</td>\n",
       "    </tr>\n",
       "    <tr>\n",
       "      <th>std</th>\n",
       "      <td>322.01708</td>\n",
       "      <td>NaN</td>\n",
       "      <td>NaN</td>\n",
       "      <td>7663.17472</td>\n",
       "      <td>3.212348</td>\n",
       "      <td>6.195983</td>\n",
       "      <td>0.500078</td>\n",
       "      <td>14.141984</td>\n",
       "      <td>1.674935</td>\n",
       "      <td>NaN</td>\n",
       "    </tr>\n",
       "    <tr>\n",
       "      <th>min</th>\n",
       "      <td>1.0</td>\n",
       "      <td>NaN</td>\n",
       "      <td>NaN</td>\n",
       "      <td>20.0</td>\n",
       "      <td>1.0</td>\n",
       "      <td>1900.0</td>\n",
       "      <td>0.0</td>\n",
       "      <td>1.0</td>\n",
       "      <td>2009.0</td>\n",
       "      <td>NaN</td>\n",
       "    </tr>\n",
       "    <tr>\n",
       "      <th>25%</th>\n",
       "      <td>279.5</td>\n",
       "      <td>NaN</td>\n",
       "      <td>NaN</td>\n",
       "      <td>717.5</td>\n",
       "      <td>4.0</td>\n",
       "      <td>2006.0</td>\n",
       "      <td>0.0</td>\n",
       "      <td>13.0</td>\n",
       "      <td>2011.0</td>\n",
       "      <td>NaN</td>\n",
       "    </tr>\n",
       "    <tr>\n",
       "      <th>50%</th>\n",
       "      <td>558.0</td>\n",
       "      <td>NaN</td>\n",
       "      <td>NaN</td>\n",
       "      <td>2325.0</td>\n",
       "      <td>8.0</td>\n",
       "      <td>2010.0</td>\n",
       "      <td>1.0</td>\n",
       "      <td>22.0</td>\n",
       "      <td>2012.0</td>\n",
       "      <td>NaN</td>\n",
       "    </tr>\n",
       "    <tr>\n",
       "      <th>75%</th>\n",
       "      <td>836.5</td>\n",
       "      <td>NaN</td>\n",
       "      <td>NaN</td>\n",
       "      <td>6882.5</td>\n",
       "      <td>10.0</td>\n",
       "      <td>2013.0</td>\n",
       "      <td>1.0</td>\n",
       "      <td>37.0</td>\n",
       "      <td>2013.0</td>\n",
       "      <td>NaN</td>\n",
       "    </tr>\n",
       "    <tr>\n",
       "      <th>max</th>\n",
       "      <td>1115.0</td>\n",
       "      <td>NaN</td>\n",
       "      <td>NaN</td>\n",
       "      <td>75860.0</td>\n",
       "      <td>12.0</td>\n",
       "      <td>2015.0</td>\n",
       "      <td>1.0</td>\n",
       "      <td>50.0</td>\n",
       "      <td>2015.0</td>\n",
       "      <td>NaN</td>\n",
       "    </tr>\n",
       "    <tr>\n",
       "      <th>counts</th>\n",
       "      <td>1115</td>\n",
       "      <td>1115</td>\n",
       "      <td>1115</td>\n",
       "      <td>1112</td>\n",
       "      <td>761</td>\n",
       "      <td>761</td>\n",
       "      <td>1115</td>\n",
       "      <td>571</td>\n",
       "      <td>571</td>\n",
       "      <td>571</td>\n",
       "    </tr>\n",
       "    <tr>\n",
       "      <th>uniques</th>\n",
       "      <td>1115</td>\n",
       "      <td>4</td>\n",
       "      <td>3</td>\n",
       "      <td>654</td>\n",
       "      <td>12</td>\n",
       "      <td>23</td>\n",
       "      <td>2</td>\n",
       "      <td>24</td>\n",
       "      <td>7</td>\n",
       "      <td>3</td>\n",
       "    </tr>\n",
       "    <tr>\n",
       "      <th>missing</th>\n",
       "      <td>0</td>\n",
       "      <td>0</td>\n",
       "      <td>0</td>\n",
       "      <td>3</td>\n",
       "      <td>354</td>\n",
       "      <td>354</td>\n",
       "      <td>0</td>\n",
       "      <td>544</td>\n",
       "      <td>544</td>\n",
       "      <td>544</td>\n",
       "    </tr>\n",
       "    <tr>\n",
       "      <th>missing_perc</th>\n",
       "      <td>0%</td>\n",
       "      <td>0%</td>\n",
       "      <td>0%</td>\n",
       "      <td>0.27%</td>\n",
       "      <td>31.75%</td>\n",
       "      <td>31.75%</td>\n",
       "      <td>0%</td>\n",
       "      <td>48.79%</td>\n",
       "      <td>48.79%</td>\n",
       "      <td>48.79%</td>\n",
       "    </tr>\n",
       "    <tr>\n",
       "      <th>types</th>\n",
       "      <td>numeric</td>\n",
       "      <td>categorical</td>\n",
       "      <td>categorical</td>\n",
       "      <td>numeric</td>\n",
       "      <td>numeric</td>\n",
       "      <td>numeric</td>\n",
       "      <td>bool</td>\n",
       "      <td>numeric</td>\n",
       "      <td>numeric</td>\n",
       "      <td>categorical</td>\n",
       "    </tr>\n",
       "  </tbody>\n",
       "</table>\n",
       "</div>"
      ],
      "text/plain": [
       "                  Store    StoreType   Assortment CompetitionDistance CompetitionOpenSinceMonth CompetitionOpenSinceYear    Promo2 Promo2SinceWeek Promo2SinceYear PromoInterval\n",
       "count            1115.0          NaN          NaN              1112.0                     761.0                    761.0    1115.0           571.0           571.0           NaN\n",
       "mean              558.0          NaN          NaN         5404.901079                  7.224704              2008.668857  0.512108       23.595447     2011.763573           NaN\n",
       "std           322.01708          NaN          NaN          7663.17472                  3.212348                 6.195983  0.500078       14.141984        1.674935           NaN\n",
       "min                 1.0          NaN          NaN                20.0                       1.0                   1900.0       0.0             1.0          2009.0           NaN\n",
       "25%               279.5          NaN          NaN               717.5                       4.0                   2006.0       0.0            13.0          2011.0           NaN\n",
       "50%               558.0          NaN          NaN              2325.0                       8.0                   2010.0       1.0            22.0          2012.0           NaN\n",
       "75%               836.5          NaN          NaN              6882.5                      10.0                   2013.0       1.0            37.0          2013.0           NaN\n",
       "max              1115.0          NaN          NaN             75860.0                      12.0                   2015.0       1.0            50.0          2015.0           NaN\n",
       "counts             1115         1115         1115                1112                       761                      761      1115             571             571           571\n",
       "uniques            1115            4            3                 654                        12                       23         2              24               7             3\n",
       "missing               0            0            0                   3                       354                      354         0             544             544           544\n",
       "missing_perc         0%           0%           0%               0.27%                    31.75%                   31.75%        0%          48.79%          48.79%        48.79%\n",
       "types           numeric  categorical  categorical             numeric                   numeric                  numeric      bool         numeric         numeric   categorical"
      ]
     },
     "metadata": {},
     "output_type": "display_data"
    }
   ],
   "source": [
    "display(store.head())\n",
    "display(DataFrameSummary(store).summary())"
   ]
  },
  {
   "cell_type": "code",
   "execution_count": 12,
   "metadata": {},
   "outputs": [
    {
     "name": "stdout",
     "output_type": "stream",
     "text": [
      "<class 'pandas.core.frame.DataFrame'>\n",
      "RangeIndex: 1115 entries, 0 to 1114\n",
      "Data columns (total 10 columns):\n",
      " #   Column                     Non-Null Count  Dtype  \n",
      "---  ------                     --------------  -----  \n",
      " 0   Store                      1115 non-null   int64  \n",
      " 1   StoreType                  1115 non-null   object \n",
      " 2   Assortment                 1115 non-null   object \n",
      " 3   CompetitionDistance        1112 non-null   float64\n",
      " 4   CompetitionOpenSinceMonth  761 non-null    float64\n",
      " 5   CompetitionOpenSinceYear   761 non-null    float64\n",
      " 6   Promo2                     1115 non-null   int64  \n",
      " 7   Promo2SinceWeek            571 non-null    float64\n",
      " 8   Promo2SinceYear            571 non-null    float64\n",
      " 9   PromoInterval              571 non-null    object \n",
      "dtypes: float64(5), int64(2), object(3)\n",
      "memory usage: 87.2+ KB\n"
     ]
    }
   ],
   "source": [
    "store.info()"
   ]
  },
  {
   "cell_type": "markdown",
   "metadata": {
    "colab_type": "text",
    "id": "X2nr226p94ru"
   },
   "source": [
    "### Conversión de variables y analisis de datos (Nulos y Errores)"
   ]
  },
  {
   "cell_type": "markdown",
   "metadata": {
    "colab_type": "text",
    "id": "1GHd7B7Y94ru"
   },
   "source": [
    "#### Datos fecha: **Date**"
   ]
  },
  {
   "cell_type": "code",
   "execution_count": 13,
   "metadata": {},
   "outputs": [],
   "source": [
    "train['Date'] =pd.to_datetime(train['Date'])"
   ]
  },
  {
   "cell_type": "code",
   "execution_count": 14,
   "metadata": {},
   "outputs": [],
   "source": [
    "test['Date'] =pd.to_datetime(test['Date'])"
   ]
  },
  {
   "cell_type": "code",
   "execution_count": 15,
   "metadata": {
    "colab": {
     "base_uri": "https://localhost:8080/",
     "height": 34
    },
    "colab_type": "code",
    "id": "bJ8Bx_5z94r8",
    "outputId": "07b7e507-ae94-4f0b-f7b9-e2756f862515"
   },
   "outputs": [
    {
     "data": {
      "text/plain": [
       "0"
      ]
     },
     "execution_count": 15,
     "metadata": {},
     "output_type": "execute_result"
    }
   ],
   "source": [
    "pd.isnull(train['Date']).values.ravel().sum()"
   ]
  },
  {
   "cell_type": "code",
   "execution_count": 16,
   "metadata": {},
   "outputs": [
    {
     "data": {
      "text/plain": [
       "0"
      ]
     },
     "execution_count": 16,
     "metadata": {},
     "output_type": "execute_result"
    }
   ],
   "source": [
    "pd.isnull(test['Date']).values.ravel().sum()"
   ]
  },
  {
   "cell_type": "code",
   "execution_count": 17,
   "metadata": {},
   "outputs": [],
   "source": [
    "var_name = 'Date'\n",
    "\n",
    "train[var_name + 'Day'] = pd.Index(train[var_name]).day\n",
    "train[var_name + 'Week'] = pd.Index(train[var_name]).week\n",
    "train[var_name + 'Month'] = pd.Index(train[var_name]).month\n",
    "train[var_name + 'Year'] = pd.Index(train[var_name]).year\n",
    "train[var_name + 'DayOfYear'] = pd.Index(train[var_name]).dayofyear\n",
    "\n",
    "train[var_name + 'Day'] = train[var_name + 'Day'].fillna(0)\n",
    "train[var_name + 'Week'] = train[var_name + 'Week'].fillna(0)\n",
    "train[var_name + 'Month'] = train[var_name + 'Month'].fillna(0)\n",
    "train[var_name + 'Year'] = train[var_name + 'Year'].fillna(0)\n",
    "train[var_name + 'DayOfYear'] = train[var_name + 'DayOfYear'].fillna(0)"
   ]
  },
  {
   "cell_type": "code",
   "execution_count": 18,
   "metadata": {},
   "outputs": [],
   "source": [
    "var_name = 'Date'\n",
    "\n",
    "test[var_name + 'Day'] = pd.Index(test[var_name]).day\n",
    "test[var_name + 'Week'] = pd.Index(test[var_name]).week\n",
    "test[var_name + 'Month'] = pd.Index(test[var_name]).month\n",
    "test[var_name + 'Year'] = pd.Index(test[var_name]).year\n",
    "test[var_name + 'DayOfYear'] = pd.Index(test[var_name]).dayofyear\n",
    "\n",
    "test[var_name + 'Day'] = test[var_name + 'Day'].fillna(0)\n",
    "test[var_name + 'Week'] = test[var_name + 'Week'].fillna(0)\n",
    "test[var_name + 'Month'] = test[var_name + 'Month'].fillna(0)\n",
    "test[var_name + 'Year'] = test[var_name + 'Year'].fillna(0)\n",
    "test[var_name + 'DayOfYear'] = test[var_name + 'DayOfYear'].fillna(0)"
   ]
  },
  {
   "cell_type": "markdown",
   "metadata": {},
   "source": [
    "### Datos Faltantes"
   ]
  },
  {
   "cell_type": "code",
   "execution_count": 19,
   "metadata": {},
   "outputs": [],
   "source": [
    "# Si no es dia 7 esta abierto - Verificado que el store 622 esta usualmente cerrado el día 7\n",
    "test.loc[test['Open'].isna(), 'Open'] = (test[test['Open'].isna()]['DayOfWeek'] != 7)*1.0"
   ]
  },
  {
   "cell_type": "code",
   "execution_count": 20,
   "metadata": {},
   "outputs": [
    {
     "name": "stdout",
     "output_type": "stream",
     "text": [
      "<class 'pandas.core.frame.DataFrame'>\n",
      "RangeIndex: 41088 entries, 0 to 41087\n",
      "Data columns (total 13 columns):\n",
      " #   Column         Non-Null Count  Dtype         \n",
      "---  ------         --------------  -----         \n",
      " 0   Id             41088 non-null  int64         \n",
      " 1   Store          41088 non-null  int64         \n",
      " 2   DayOfWeek      41088 non-null  int64         \n",
      " 3   Date           41088 non-null  datetime64[ns]\n",
      " 4   Open           41088 non-null  float64       \n",
      " 5   Promo          41088 non-null  int64         \n",
      " 6   StateHoliday   41088 non-null  object        \n",
      " 7   SchoolHoliday  41088 non-null  int64         \n",
      " 8   DateDay        41088 non-null  int64         \n",
      " 9   DateWeek       41088 non-null  int64         \n",
      " 10  DateMonth      41088 non-null  int64         \n",
      " 11  DateYear       41088 non-null  int64         \n",
      " 12  DateDayOfYear  41088 non-null  int64         \n",
      "dtypes: datetime64[ns](1), float64(1), int64(10), object(1)\n",
      "memory usage: 4.1+ MB\n"
     ]
    }
   ],
   "source": [
    "test.info()"
   ]
  },
  {
   "cell_type": "code",
   "execution_count": 21,
   "metadata": {},
   "outputs": [
    {
     "name": "stdout",
     "output_type": "stream",
     "text": [
      "75860.0 5404.901079136691 20.0\n"
     ]
    }
   ],
   "source": [
    "# Si no tengo la distancia, supongo que no hay (Como si estuviera lejos)\n",
    "print(store['CompetitionDistance'].max(), store['CompetitionDistance'].mean(), store['CompetitionDistance'].min())\n",
    "store.loc[store['CompetitionDistance'].isna(), 'CompetitionDistance'] = store['CompetitionDistance'].max()"
   ]
  },
  {
   "cell_type": "code",
   "execution_count": 22,
   "metadata": {},
   "outputs": [],
   "source": [
    "# Fechas de las mas antiguas segun datos y tambien las fechas anteriores las pongo como minimo en 1990\n",
    "store.loc[store['CompetitionOpenSinceYear'].isna() | (store['CompetitionOpenSinceYear']<1990), 'CompetitionOpenSinceYear'] = np.int32(1990)\n",
    "store.loc[store['CompetitionOpenSinceMonth'].isna() | (store['CompetitionOpenSinceYear']<1990), 'CompetitionOpenSinceMonth'] = np.int32(1)"
   ]
  },
  {
   "cell_type": "code",
   "execution_count": 23,
   "metadata": {},
   "outputs": [],
   "source": [
    "# Si no tiene Promo2 entonces la semana en donde empezo es cero. Esto será tratado como categórica por eso tiene sentido\n",
    "store.loc[store['Promo2SinceWeek'].isna() & (store['Promo2'] == 0), 'Promo2SinceWeek'] = np.int32(1)\n",
    "store.loc[store['Promo2SinceYear'].isna() & (store['Promo2'] == 0), 'Promo2SinceYear'] = np.int32(1990)\n",
    "store.loc[store['PromoInterval'].isna() & (store['Promo2'] == 0), 'PromoInterval'] = 'Desc'"
   ]
  },
  {
   "cell_type": "code",
   "execution_count": 24,
   "metadata": {},
   "outputs": [
    {
     "name": "stdout",
     "output_type": "stream",
     "text": [
      "<class 'pandas.core.frame.DataFrame'>\n",
      "RangeIndex: 1115 entries, 0 to 1114\n",
      "Data columns (total 10 columns):\n",
      " #   Column                     Non-Null Count  Dtype  \n",
      "---  ------                     --------------  -----  \n",
      " 0   Store                      1115 non-null   int64  \n",
      " 1   StoreType                  1115 non-null   object \n",
      " 2   Assortment                 1115 non-null   object \n",
      " 3   CompetitionDistance        1115 non-null   float64\n",
      " 4   CompetitionOpenSinceMonth  1115 non-null   float64\n",
      " 5   CompetitionOpenSinceYear   1115 non-null   float64\n",
      " 6   Promo2                     1115 non-null   int64  \n",
      " 7   Promo2SinceWeek            1115 non-null   float64\n",
      " 8   Promo2SinceYear            1115 non-null   float64\n",
      " 9   PromoInterval              1115 non-null   object \n",
      "dtypes: float64(5), int64(2), object(3)\n",
      "memory usage: 87.2+ KB\n"
     ]
    }
   ],
   "source": [
    "store.info()"
   ]
  },
  {
   "cell_type": "code",
   "execution_count": 25,
   "metadata": {},
   "outputs": [],
   "source": [
    "train.to_feather('all_preprocessed_train.fth')\n",
    "test.to_feather('all_preprocessed_test.fth')\n",
    "store.to_feather('all_preprocessed_store.fth')"
   ]
  },
  {
   "cell_type": "markdown",
   "metadata": {},
   "source": [
    "### Variables Categóricas"
   ]
  },
  {
   "cell_type": "code",
   "execution_count": 26,
   "metadata": {},
   "outputs": [
    {
     "name": "stdout",
     "output_type": "stream",
     "text": [
      "<class 'pandas.core.frame.DataFrame'>\n",
      "RangeIndex: 1017209 entries, 0 to 1017208\n",
      "Data columns (total 14 columns):\n",
      " #   Column         Non-Null Count    Dtype         \n",
      "---  ------         --------------    -----         \n",
      " 0   Store          1017209 non-null  int64         \n",
      " 1   DayOfWeek      1017209 non-null  int64         \n",
      " 2   Date           1017209 non-null  datetime64[ns]\n",
      " 3   Sales          1017209 non-null  int64         \n",
      " 4   Customers      1017209 non-null  int64         \n",
      " 5   Open           1017209 non-null  int64         \n",
      " 6   Promo          1017209 non-null  int64         \n",
      " 7   StateHoliday   1017209 non-null  object        \n",
      " 8   SchoolHoliday  1017209 non-null  int64         \n",
      " 9   DateDay        1017209 non-null  int64         \n",
      " 10  DateWeek       1017209 non-null  int64         \n",
      " 11  DateMonth      1017209 non-null  int64         \n",
      " 12  DateYear       1017209 non-null  int64         \n",
      " 13  DateDayOfYear  1017209 non-null  int64         \n",
      "dtypes: datetime64[ns](1), int64(12), object(1)\n",
      "memory usage: 108.6+ MB\n"
     ]
    }
   ],
   "source": [
    "train.info()"
   ]
  },
  {
   "cell_type": "code",
   "execution_count": 27,
   "metadata": {},
   "outputs": [
    {
     "data": {
      "text/plain": [
       "0    986159\n",
       "a     20260\n",
       "b      6690\n",
       "c      4100\n",
       "Name: StateHoliday, dtype: int64"
      ]
     },
     "execution_count": 27,
     "metadata": {},
     "output_type": "execute_result"
    }
   ],
   "source": [
    "#StateHoliday - indicates a state holiday. Normally all stores, with few exceptions, are closed on state holidays. \n",
    "#Note that all schools are closed on public holidays and weekends. a = public holiday, b = Easter holiday, c = Christmas, 0 = None\n",
    "train['StateHoliday'].value_counts()"
   ]
  },
  {
   "cell_type": "code",
   "execution_count": 28,
   "metadata": {},
   "outputs": [],
   "source": [
    "train['StateHoliday'] = train['StateHoliday'].astype('category').cat.codes"
   ]
  },
  {
   "cell_type": "code",
   "execution_count": 29,
   "metadata": {},
   "outputs": [
    {
     "data": {
      "text/plain": [
       "0    986159\n",
       "1     20260\n",
       "2      6690\n",
       "3      4100\n",
       "Name: StateHoliday, dtype: int64"
      ]
     },
     "execution_count": 29,
     "metadata": {},
     "output_type": "execute_result"
    }
   ],
   "source": [
    "train['StateHoliday'].value_counts()"
   ]
  },
  {
   "cell_type": "code",
   "execution_count": 30,
   "metadata": {},
   "outputs": [
    {
     "name": "stdout",
     "output_type": "stream",
     "text": [
      "<class 'pandas.core.frame.DataFrame'>\n",
      "RangeIndex: 1017209 entries, 0 to 1017208\n",
      "Data columns (total 14 columns):\n",
      " #   Column         Non-Null Count    Dtype         \n",
      "---  ------         --------------    -----         \n",
      " 0   Store          1017209 non-null  int64         \n",
      " 1   DayOfWeek      1017209 non-null  int64         \n",
      " 2   Date           1017209 non-null  datetime64[ns]\n",
      " 3   Sales          1017209 non-null  int64         \n",
      " 4   Customers      1017209 non-null  int64         \n",
      " 5   Open           1017209 non-null  int64         \n",
      " 6   Promo          1017209 non-null  int64         \n",
      " 7   StateHoliday   1017209 non-null  int8          \n",
      " 8   SchoolHoliday  1017209 non-null  int64         \n",
      " 9   DateDay        1017209 non-null  int64         \n",
      " 10  DateWeek       1017209 non-null  int64         \n",
      " 11  DateMonth      1017209 non-null  int64         \n",
      " 12  DateYear       1017209 non-null  int64         \n",
      " 13  DateDayOfYear  1017209 non-null  int64         \n",
      "dtypes: datetime64[ns](1), int64(12), int8(1)\n",
      "memory usage: 101.9 MB\n"
     ]
    }
   ],
   "source": [
    "train.info()"
   ]
  },
  {
   "cell_type": "code",
   "execution_count": 31,
   "metadata": {},
   "outputs": [],
   "source": [
    "test['StateHoliday'] = test['StateHoliday'].astype('category').cat.codes"
   ]
  },
  {
   "cell_type": "code",
   "execution_count": 32,
   "metadata": {},
   "outputs": [
    {
     "name": "stdout",
     "output_type": "stream",
     "text": [
      "<class 'pandas.core.frame.DataFrame'>\n",
      "RangeIndex: 41088 entries, 0 to 41087\n",
      "Data columns (total 13 columns):\n",
      " #   Column         Non-Null Count  Dtype         \n",
      "---  ------         --------------  -----         \n",
      " 0   Id             41088 non-null  int64         \n",
      " 1   Store          41088 non-null  int64         \n",
      " 2   DayOfWeek      41088 non-null  int64         \n",
      " 3   Date           41088 non-null  datetime64[ns]\n",
      " 4   Open           41088 non-null  float64       \n",
      " 5   Promo          41088 non-null  int64         \n",
      " 6   StateHoliday   41088 non-null  int8          \n",
      " 7   SchoolHoliday  41088 non-null  int64         \n",
      " 8   DateDay        41088 non-null  int64         \n",
      " 9   DateWeek       41088 non-null  int64         \n",
      " 10  DateMonth      41088 non-null  int64         \n",
      " 11  DateYear       41088 non-null  int64         \n",
      " 12  DateDayOfYear  41088 non-null  int64         \n",
      "dtypes: datetime64[ns](1), float64(1), int64(10), int8(1)\n",
      "memory usage: 3.8 MB\n"
     ]
    }
   ],
   "source": [
    "test.info()"
   ]
  },
  {
   "cell_type": "code",
   "execution_count": 33,
   "metadata": {},
   "outputs": [
    {
     "data": {
      "text/plain": [
       "{'Customers', 'Sales'}"
      ]
     },
     "execution_count": 33,
     "metadata": {},
     "output_type": "execute_result"
    }
   ],
   "source": [
    "set(train.columns) - set(test.columns)"
   ]
  },
  {
   "cell_type": "code",
   "execution_count": 34,
   "metadata": {},
   "outputs": [
    {
     "name": "stdout",
     "output_type": "stream",
     "text": [
      "<class 'pandas.core.frame.DataFrame'>\n",
      "RangeIndex: 1115 entries, 0 to 1114\n",
      "Data columns (total 10 columns):\n",
      " #   Column                     Non-Null Count  Dtype  \n",
      "---  ------                     --------------  -----  \n",
      " 0   Store                      1115 non-null   int64  \n",
      " 1   StoreType                  1115 non-null   object \n",
      " 2   Assortment                 1115 non-null   object \n",
      " 3   CompetitionDistance        1115 non-null   float64\n",
      " 4   CompetitionOpenSinceMonth  1115 non-null   float64\n",
      " 5   CompetitionOpenSinceYear   1115 non-null   float64\n",
      " 6   Promo2                     1115 non-null   int64  \n",
      " 7   Promo2SinceWeek            1115 non-null   float64\n",
      " 8   Promo2SinceYear            1115 non-null   float64\n",
      " 9   PromoInterval              1115 non-null   object \n",
      "dtypes: float64(5), int64(2), object(3)\n",
      "memory usage: 87.2+ KB\n"
     ]
    }
   ],
   "source": [
    "store.info()"
   ]
  },
  {
   "cell_type": "code",
   "execution_count": 35,
   "metadata": {},
   "outputs": [
    {
     "data": {
      "text/plain": [
       "a    602\n",
       "d    348\n",
       "c    148\n",
       "b     17\n",
       "Name: StoreType, dtype: int64"
      ]
     },
     "execution_count": 35,
     "metadata": {},
     "output_type": "execute_result"
    }
   ],
   "source": [
    "store['StoreType'].value_counts()"
   ]
  },
  {
   "cell_type": "code",
   "execution_count": 36,
   "metadata": {},
   "outputs": [],
   "source": [
    "### Convert Storetype and Assortment to numerical categories\n",
    "store['StoreType'] = store['StoreType'].astype('category').cat.codes\n",
    "store['Assortment'] = store['Assortment'].astype('category').cat.codes"
   ]
  },
  {
   "cell_type": "code",
   "execution_count": 37,
   "metadata": {},
   "outputs": [
    {
     "data": {
      "text/plain": [
       "0    602\n",
       "3    348\n",
       "2    148\n",
       "1     17\n",
       "Name: StoreType, dtype: int64"
      ]
     },
     "execution_count": 37,
     "metadata": {},
     "output_type": "execute_result"
    }
   ],
   "source": [
    "store['StoreType'].value_counts()"
   ]
  },
  {
   "cell_type": "code",
   "execution_count": 38,
   "metadata": {},
   "outputs": [],
   "source": [
    "### Convert competition open year and month to int\n",
    "def convertCompetitionOpen(df):\n",
    "    try:\n",
    "        date = '{}-{}'.format(int(df['CompetitionOpenSinceYear']), int(df['CompetitionOpenSinceMonth']))\n",
    "        return pd.to_datetime(date)\n",
    "    except:\n",
    "        return np.nan\n",
    "\n",
    "store['CompetitionOpenInt'] = store.apply(lambda df: convertCompetitionOpen(df), axis=1).astype(np.int64)"
   ]
  },
  {
   "cell_type": "code",
   "execution_count": 39,
   "metadata": {},
   "outputs": [],
   "source": [
    "### Convert promo2 year and month to float\n",
    "def convertPromo2(df):\n",
    "    try:\n",
    "        date = '{}{}1'.format(int(df['Promo2SinceYear']), int(df['Promo2SinceWeek']))\n",
    "        return pd.to_datetime(date, format='%Y%W%w')\n",
    "    except:\n",
    "        return np.nan\n",
    "\n",
    "store['Promo2SinceFloat'] = store.apply(lambda df: convertPromo2(df), axis=1).astype(np.int64)"
   ]
  },
  {
   "cell_type": "code",
   "execution_count": 40,
   "metadata": {},
   "outputs": [
    {
     "name": "stdout",
     "output_type": "stream",
     "text": [
      "<class 'pandas.core.frame.DataFrame'>\n",
      "RangeIndex: 1115 entries, 0 to 1114\n",
      "Data columns (total 12 columns):\n",
      " #   Column                     Non-Null Count  Dtype  \n",
      "---  ------                     --------------  -----  \n",
      " 0   Store                      1115 non-null   int64  \n",
      " 1   StoreType                  1115 non-null   int8   \n",
      " 2   Assortment                 1115 non-null   int8   \n",
      " 3   CompetitionDistance        1115 non-null   float64\n",
      " 4   CompetitionOpenSinceMonth  1115 non-null   float64\n",
      " 5   CompetitionOpenSinceYear   1115 non-null   float64\n",
      " 6   Promo2                     1115 non-null   int64  \n",
      " 7   Promo2SinceWeek            1115 non-null   float64\n",
      " 8   Promo2SinceYear            1115 non-null   float64\n",
      " 9   PromoInterval              1115 non-null   object \n",
      " 10  CompetitionOpenInt         1115 non-null   int64  \n",
      " 11  Promo2SinceFloat           1115 non-null   int64  \n",
      "dtypes: float64(5), int64(4), int8(2), object(1)\n",
      "memory usage: 89.4+ KB\n"
     ]
    }
   ],
   "source": [
    "store.info()"
   ]
  },
  {
   "cell_type": "code",
   "execution_count": 41,
   "metadata": {},
   "outputs": [
    {
     "data": {
      "text/plain": [
       "Desc                544\n",
       "Jan,Apr,Jul,Oct     335\n",
       "Feb,May,Aug,Nov     130\n",
       "Mar,Jun,Sept,Dec    106\n",
       "Name: PromoInterval, dtype: int64"
      ]
     },
     "execution_count": 41,
     "metadata": {},
     "output_type": "execute_result"
    }
   ],
   "source": [
    "store['PromoInterval'].value_counts()"
   ]
  },
  {
   "cell_type": "code",
   "execution_count": 42,
   "metadata": {},
   "outputs": [],
   "source": [
    "### Convert PromoInterval to numerical categories\n",
    "store['PromoInterval'] = store['PromoInterval'].astype('category').cat.codes"
   ]
  },
  {
   "cell_type": "code",
   "execution_count": 43,
   "metadata": {},
   "outputs": [
    {
     "data": {
      "text/plain": [
       "0    544\n",
       "2    335\n",
       "1    130\n",
       "3    106\n",
       "Name: PromoInterval, dtype: int64"
      ]
     },
     "execution_count": 43,
     "metadata": {},
     "output_type": "execute_result"
    }
   ],
   "source": [
    "store['PromoInterval'].value_counts()"
   ]
  },
  {
   "cell_type": "code",
   "execution_count": 44,
   "metadata": {},
   "outputs": [
    {
     "name": "stdout",
     "output_type": "stream",
     "text": [
      "<class 'pandas.core.frame.DataFrame'>\n",
      "RangeIndex: 1115 entries, 0 to 1114\n",
      "Data columns (total 12 columns):\n",
      " #   Column                     Non-Null Count  Dtype  \n",
      "---  ------                     --------------  -----  \n",
      " 0   Store                      1115 non-null   int64  \n",
      " 1   StoreType                  1115 non-null   int8   \n",
      " 2   Assortment                 1115 non-null   int8   \n",
      " 3   CompetitionDistance        1115 non-null   float64\n",
      " 4   CompetitionOpenSinceMonth  1115 non-null   float64\n",
      " 5   CompetitionOpenSinceYear   1115 non-null   float64\n",
      " 6   Promo2                     1115 non-null   int64  \n",
      " 7   Promo2SinceWeek            1115 non-null   float64\n",
      " 8   Promo2SinceYear            1115 non-null   float64\n",
      " 9   PromoInterval              1115 non-null   int8   \n",
      " 10  CompetitionOpenInt         1115 non-null   int64  \n",
      " 11  Promo2SinceFloat           1115 non-null   int64  \n",
      "dtypes: float64(5), int64(4), int8(3)\n",
      "memory usage: 81.8 KB\n"
     ]
    }
   ],
   "source": [
    "store.info()"
   ]
  },
  {
   "cell_type": "code",
   "execution_count": 45,
   "metadata": {},
   "outputs": [],
   "source": [
    "train.to_feather('all_preprocessed_cat_train.fth')\n",
    "test.to_feather('all_preprocessed_cat_test.fth')\n",
    "store.to_feather('all_preprocessed_cat_store.fth')"
   ]
  },
  {
   "cell_type": "markdown",
   "metadata": {},
   "source": [
    "### Join de archivos"
   ]
  },
  {
   "cell_type": "code",
   "execution_count": 46,
   "metadata": {},
   "outputs": [],
   "source": [
    "def join_df(left, right, left_on, right_on=None):\n",
    "    if right_on is None: right_on = left_on\n",
    "    return left.merge(right, how='left', left_on=left_on, right_on=right_on, \n",
    "                      suffixes=(\"\", \"_y\"))"
   ]
  },
  {
   "cell_type": "code",
   "execution_count": 47,
   "metadata": {},
   "outputs": [
    {
     "data": {
      "text/plain": [
       "Index(['Store', 'DayOfWeek', 'Date', 'Sales', 'Customers', 'Open', 'Promo', 'StateHoliday',\n",
       "       'SchoolHoliday', 'DateDay', 'DateWeek', 'DateMonth', 'DateYear', 'DateDayOfYear'],\n",
       "      dtype='object')"
      ]
     },
     "execution_count": 47,
     "metadata": {},
     "output_type": "execute_result"
    }
   ],
   "source": [
    "train.columns"
   ]
  },
  {
   "cell_type": "code",
   "execution_count": 48,
   "metadata": {},
   "outputs": [],
   "source": [
    "# Mergeo train y store\n",
    "joined_train = join_df(train, store, \"Store\")"
   ]
  },
  {
   "cell_type": "code",
   "execution_count": 49,
   "metadata": {},
   "outputs": [
    {
     "data": {
      "text/plain": [
       "Index(['Store', 'DayOfWeek', 'Date', 'Sales', 'Customers', 'Open', 'Promo', 'StateHoliday',\n",
       "       'SchoolHoliday', 'DateDay', 'DateWeek', 'DateMonth', 'DateYear', 'DateDayOfYear',\n",
       "       'StoreType', 'Assortment', 'CompetitionDistance', 'CompetitionOpenSinceMonth',\n",
       "       'CompetitionOpenSinceYear', 'Promo2', 'Promo2SinceWeek', 'Promo2SinceYear', 'PromoInterval',\n",
       "       'CompetitionOpenInt', 'Promo2SinceFloat'],\n",
       "      dtype='object')"
      ]
     },
     "execution_count": 49,
     "metadata": {},
     "output_type": "execute_result"
    }
   ],
   "source": [
    "joined_train.columns"
   ]
  },
  {
   "cell_type": "code",
   "execution_count": 50,
   "metadata": {},
   "outputs": [],
   "source": [
    "# Mergeo test y store\n",
    "joined_test = join_df(test, store, \"Store\")"
   ]
  },
  {
   "cell_type": "code",
   "execution_count": 51,
   "metadata": {},
   "outputs": [
    {
     "data": {
      "text/plain": [
       "Index(['Id', 'Store', 'DayOfWeek', 'Date', 'Open', 'Promo', 'StateHoliday', 'SchoolHoliday',\n",
       "       'DateDay', 'DateWeek', 'DateMonth', 'DateYear', 'DateDayOfYear', 'StoreType', 'Assortment',\n",
       "       'CompetitionDistance', 'CompetitionOpenSinceMonth', 'CompetitionOpenSinceYear', 'Promo2',\n",
       "       'Promo2SinceWeek', 'Promo2SinceYear', 'PromoInterval', 'CompetitionOpenInt',\n",
       "       'Promo2SinceFloat'],\n",
       "      dtype='object')"
      ]
     },
     "execution_count": 51,
     "metadata": {},
     "output_type": "execute_result"
    }
   ],
   "source": [
    "joined_test.columns"
   ]
  },
  {
   "cell_type": "code",
   "execution_count": 52,
   "metadata": {},
   "outputs": [
    {
     "data": {
      "text/plain": [
       "{'Customers', 'Sales'}"
      ]
     },
     "execution_count": 52,
     "metadata": {},
     "output_type": "execute_result"
    }
   ],
   "source": [
    "set(joined_train.columns) - set(joined_test.columns)"
   ]
  },
  {
   "cell_type": "code",
   "execution_count": 53,
   "metadata": {},
   "outputs": [
    {
     "name": "stdout",
     "output_type": "stream",
     "text": [
      "<class 'pandas.core.frame.DataFrame'>\n",
      "Int64Index: 41088 entries, 0 to 41087\n",
      "Data columns (total 24 columns):\n",
      " #   Column                     Non-Null Count  Dtype         \n",
      "---  ------                     --------------  -----         \n",
      " 0   Id                         41088 non-null  int64         \n",
      " 1   Store                      41088 non-null  int64         \n",
      " 2   DayOfWeek                  41088 non-null  int64         \n",
      " 3   Date                       41088 non-null  datetime64[ns]\n",
      " 4   Open                       41088 non-null  float64       \n",
      " 5   Promo                      41088 non-null  int64         \n",
      " 6   StateHoliday               41088 non-null  int8          \n",
      " 7   SchoolHoliday              41088 non-null  int64         \n",
      " 8   DateDay                    41088 non-null  int64         \n",
      " 9   DateWeek                   41088 non-null  int64         \n",
      " 10  DateMonth                  41088 non-null  int64         \n",
      " 11  DateYear                   41088 non-null  int64         \n",
      " 12  DateDayOfYear              41088 non-null  int64         \n",
      " 13  StoreType                  41088 non-null  int8          \n",
      " 14  Assortment                 41088 non-null  int8          \n",
      " 15  CompetitionDistance        41088 non-null  float64       \n",
      " 16  CompetitionOpenSinceMonth  41088 non-null  float64       \n",
      " 17  CompetitionOpenSinceYear   41088 non-null  float64       \n",
      " 18  Promo2                     41088 non-null  int64         \n",
      " 19  Promo2SinceWeek            41088 non-null  float64       \n",
      " 20  Promo2SinceYear            41088 non-null  float64       \n",
      " 21  PromoInterval              41088 non-null  int8          \n",
      " 22  CompetitionOpenInt         41088 non-null  int64         \n",
      " 23  Promo2SinceFloat           41088 non-null  int64         \n",
      "dtypes: datetime64[ns](1), float64(6), int64(13), int8(4)\n",
      "memory usage: 6.7 MB\n"
     ]
    }
   ],
   "source": [
    "joined_test.info()"
   ]
  },
  {
   "cell_type": "code",
   "execution_count": 54,
   "metadata": {},
   "outputs": [
    {
     "data": {
      "image/png": "[encoded data removed]",
      "text/plain": [
       "<Figure size 2160x1440 with 2 Axes>"
      ]
     },
     "metadata": {
      "needs_background": "light"
     },
     "output_type": "display_data"
    }
   ],
   "source": [
    "plt.figure(figsize=(30, 20))\n",
    "sns.heatmap(joined_train.corr(),cmap=\"YlGnBu\" ,annot=True);"
   ]
  },
  {
   "cell_type": "code",
   "execution_count": 55,
   "metadata": {},
   "outputs": [
    {
     "data": {
      "text/plain": [
       "['Customers']"
      ]
     },
     "execution_count": 55,
     "metadata": {},
     "output_type": "execute_result"
    }
   ],
   "source": [
    "#Se elimina esta columna porque no se tiene para test\n",
    "columnasaEliminar=['Customers']\n",
    "columnasaEliminar"
   ]
  },
  {
   "cell_type": "code",
   "execution_count": 56,
   "metadata": {},
   "outputs": [
    {
     "data": {
      "text/plain": [
       "Index(['Store', 'DayOfWeek', 'Date', 'Sales', 'Open', 'Promo', 'StateHoliday', 'SchoolHoliday',\n",
       "       'DateDay', 'DateWeek', 'DateMonth', 'DateYear', 'DateDayOfYear', 'StoreType', 'Assortment',\n",
       "       'CompetitionDistance', 'CompetitionOpenSinceMonth', 'CompetitionOpenSinceYear', 'Promo2',\n",
       "       'Promo2SinceWeek', 'Promo2SinceYear', 'PromoInterval', 'CompetitionOpenInt',\n",
       "       'Promo2SinceFloat'],\n",
       "      dtype='object')"
      ]
     },
     "execution_count": 56,
     "metadata": {},
     "output_type": "execute_result"
    }
   ],
   "source": [
    "joined_train = joined_train.drop(columns=columnasaEliminar,axis=1)\n",
    "joined_train.columns"
   ]
  },
  {
   "cell_type": "code",
   "execution_count": 57,
   "metadata": {},
   "outputs": [
    {
     "data": {
      "text/plain": [
       "(1017209, 24)"
      ]
     },
     "execution_count": 57,
     "metadata": {},
     "output_type": "execute_result"
    }
   ],
   "source": [
    "joined_train.shape"
   ]
  },
  {
   "cell_type": "code",
   "execution_count": 58,
   "metadata": {},
   "outputs": [
    {
     "name": "stdout",
     "output_type": "stream",
     "text": [
      "<class 'pandas.core.frame.DataFrame'>\n",
      "Int64Index: 1017209 entries, 0 to 1017208\n",
      "Data columns (total 24 columns):\n",
      " #   Column                     Non-Null Count    Dtype         \n",
      "---  ------                     --------------    -----         \n",
      " 0   Store                      1017209 non-null  int64         \n",
      " 1   DayOfWeek                  1017209 non-null  int64         \n",
      " 2   Date                       1017209 non-null  datetime64[ns]\n",
      " 3   Sales                      1017209 non-null  int64         \n",
      " 4   Open                       1017209 non-null  int64         \n",
      " 5   Promo                      1017209 non-null  int64         \n",
      " 6   StateHoliday               1017209 non-null  int8          \n",
      " 7   SchoolHoliday              1017209 non-null  int64         \n",
      " 8   DateDay                    1017209 non-null  int64         \n",
      " 9   DateWeek                   1017209 non-null  int64         \n",
      " 10  DateMonth                  1017209 non-null  int64         \n",
      " 11  DateYear                   1017209 non-null  int64         \n",
      " 12  DateDayOfYear              1017209 non-null  int64         \n",
      " 13  StoreType                  1017209 non-null  int8          \n",
      " 14  Assortment                 1017209 non-null  int8          \n",
      " 15  CompetitionDistance        1017209 non-null  float64       \n",
      " 16  CompetitionOpenSinceMonth  1017209 non-null  float64       \n",
      " 17  CompetitionOpenSinceYear   1017209 non-null  float64       \n",
      " 18  Promo2                     1017209 non-null  int64         \n",
      " 19  Promo2SinceWeek            1017209 non-null  float64       \n",
      " 20  Promo2SinceYear            1017209 non-null  float64       \n",
      " 21  PromoInterval              1017209 non-null  int8          \n",
      " 22  CompetitionOpenInt         1017209 non-null  int64         \n",
      " 23  Promo2SinceFloat           1017209 non-null  int64         \n",
      "dtypes: datetime64[ns](1), float64(5), int64(14), int8(4)\n",
      "memory usage: 166.9 MB\n"
     ]
    }
   ],
   "source": [
    "joined_train.info()"
   ]
  },
  {
   "cell_type": "code",
   "execution_count": 59,
   "metadata": {},
   "outputs": [],
   "source": [
    "### Remove rows where store is open, but no sales.\n",
    "joined_train = joined_train.loc[~((joined_train['Open'] == 1) & (joined_train['Sales'] == 0))]"
   ]
  },
  {
   "cell_type": "code",
   "execution_count": 60,
   "metadata": {},
   "outputs": [
    {
     "data": {
      "text/plain": [
       "(1017155, 24)"
      ]
     },
     "execution_count": 60,
     "metadata": {},
     "output_type": "execute_result"
    }
   ],
   "source": [
    "joined_train.shape"
   ]
  },
  {
   "cell_type": "code",
   "execution_count": 61,
   "metadata": {},
   "outputs": [],
   "source": [
    "joined_train.reset_index(inplace=True)"
   ]
  },
  {
   "cell_type": "code",
   "execution_count": 62,
   "metadata": {},
   "outputs": [],
   "source": [
    "joined_train.to_feather('all_preprocessed_cat_sales0_train.fth')"
   ]
  },
  {
   "cell_type": "code",
   "execution_count": 63,
   "metadata": {},
   "outputs": [],
   "source": [
    "joined_test.reset_index(inplace=True)"
   ]
  },
  {
   "cell_type": "code",
   "execution_count": 64,
   "metadata": {},
   "outputs": [],
   "source": [
    "joined_test.to_feather('all_preprocessed_cat_sales0_test.fth')"
   ]
  },
  {
   "cell_type": "markdown",
   "metadata": {},
   "source": [
    "# Ejecuto modelo Baseline"
   ]
  },
  {
   "cell_type": "code",
   "execution_count": 65,
   "metadata": {},
   "outputs": [],
   "source": [
    "features_x = ['Store', 'DayOfWeek', 'Open', 'Promo', 'StateHoliday', 'SchoolHoliday',\n",
    "       'DateDay', 'DateWeek', 'DateMonth', 'DateYear', 'DateDayOfYear', 'StoreType', 'Assortment',\n",
    "       'CompetitionDistance', 'CompetitionOpenSinceMonth', 'CompetitionOpenSinceYear', 'Promo2',\n",
    "       'Promo2SinceWeek', 'Promo2SinceYear', 'PromoInterval', 'CompetitionOpenInt',\n",
    "       'Promo2SinceFloat']\n",
    "features_y = ['Sales']"
   ]
  },
  {
   "cell_type": "code",
   "execution_count": 66,
   "metadata": {},
   "outputs": [],
   "source": [
    "### Convert every NAN to -1\n",
    "for feature in features_x:\n",
    "    joined_train[feature] = joined_train[feature].fillna(-1)"
   ]
  },
  {
   "cell_type": "code",
   "execution_count": 67,
   "metadata": {},
   "outputs": [],
   "source": [
    "X_train, X_val, y_train, y_val = train_test_split(joined_train[features_x],\n",
    "                                                    joined_train[features_y],\n",
    "                                                    test_size=0.1, random_state=seed)"
   ]
  },
  {
   "cell_type": "markdown",
   "metadata": {},
   "source": [
    "### XGB"
   ]
  },
  {
   "cell_type": "code",
   "execution_count": 68,
   "metadata": {},
   "outputs": [
    {
     "name": "stdout",
     "output_type": "stream",
     "text": [
      "XGBRegressor(base_score=None, booster=None, colsample_bylevel=None,\n",
      "             colsample_bynode=None, colsample_bytree=None, gamma=0.005,\n",
      "             gpu_id=None, importance_type='gain', interaction_constraints=None,\n",
      "             learning_rate=0.25, max_delta_step=None, max_depth=8,\n",
      "             min_child_weight=None, missing=nan, monotone_constraints=None,\n",
      "             n_estimators=4000, n_jobs=12, num_parallel_tree=None,\n",
      "             random_state=None, reg_alpha=None, reg_lambda=None,\n",
      "             scale_pos_weight=None, subsample=None, tree_method=None,\n",
      "             validate_parameters=None, verbosity=None)\n"
     ]
    }
   ],
   "source": [
    "n_estimators=4000\n",
    "learning_rate=0.25\n",
    "modelXGB = XGBRegressor(n_estimators=n_estimators, learning_rate=learning_rate, \n",
    "                 objective='reg:squarederror', n_jobs=12, max_depth=8, gamma=0.005)\n",
    "print(modelXGB)\n",
    "\n",
    "fit_params={\"early_stopping_rounds\":100, \n",
    "        \"eval_metric\" : 'rmse', \n",
    "        \"eval_set\" : [(X_val, y_val)],\n",
    "        'verbose': 100,\n",
    "       }"
   ]
  },
  {
   "cell_type": "code",
   "execution_count": 69,
   "metadata": {},
   "outputs": [
    {
     "name": "stdout",
     "output_type": "stream",
     "text": [
      "[0]\tvalidation_0-rmse:5407.39844\n",
      "[100]\tvalidation_0-rmse:880.97626\n",
      "[200]\tvalidation_0-rmse:751.10663\n",
      "[300]\tvalidation_0-rmse:695.17041\n",
      "[400]\tvalidation_0-rmse:664.29608\n",
      "[500]\tvalidation_0-rmse:644.32263\n",
      "[600]\tvalidation_0-rmse:630.83252\n",
      "[700]\tvalidation_0-rmse:622.20312\n",
      "[800]\tvalidation_0-rmse:616.08527\n",
      "[900]\tvalidation_0-rmse:611.06012\n",
      "[1000]\tvalidation_0-rmse:606.20374\n",
      "[1100]\tvalidation_0-rmse:603.31262\n",
      "[1200]\tvalidation_0-rmse:600.64136\n",
      "[1300]\tvalidation_0-rmse:598.76752\n",
      "[1400]\tvalidation_0-rmse:597.14093\n",
      "[1500]\tvalidation_0-rmse:595.60889\n",
      "[1600]\tvalidation_0-rmse:593.98706\n",
      "[1700]\tvalidation_0-rmse:592.94190\n",
      "[1800]\tvalidation_0-rmse:591.99335\n",
      "[1900]\tvalidation_0-rmse:591.41522\n",
      "[2000]\tvalidation_0-rmse:590.61847\n",
      "[2100]\tvalidation_0-rmse:589.82404\n",
      "[2200]\tvalidation_0-rmse:590.04584\n",
      "[2201]\tvalidation_0-rmse:590.06433\n"
     ]
    },
    {
     "data": {
      "text/plain": [
       "XGBRegressor(base_score=0.5, booster='gbtree', colsample_bylevel=1,\n",
       "             colsample_bynode=1, colsample_bytree=1, gamma=0.005, gpu_id=-1,\n",
       "             importance_type='gain', interaction_constraints='',\n",
       "             learning_rate=0.25, max_delta_step=0, max_depth=8,\n",
       "             min_child_weight=1, missing=nan, monotone_constraints='()',\n",
       "             n_estimators=4000, n_jobs=12, num_parallel_tree=1, random_state=0,\n",
       "             reg_alpha=0, reg_lambda=1, scale_pos_weight=1, subsample=1,\n",
       "             tree_method='exact', validate_parameters=1, verbosity=None)"
      ]
     },
     "execution_count": 69,
     "metadata": {},
     "output_type": "execute_result"
    }
   ],
   "source": [
    "modelXGB.fit(X_train, y_train, **fit_params)"
   ]
  },
  {
   "cell_type": "code",
   "execution_count": 70,
   "metadata": {},
   "outputs": [
    {
     "name": "stdout",
     "output_type": "stream",
     "text": [
      "Score\n",
      "Comienzo Predict\n",
      "Score, train_RMSE, val_RMSE\n",
      "0.9763044252766888 inf inf\n"
     ]
    }
   ],
   "source": [
    "print('Score')\n",
    "score = modelXGB.score(X_val, y_val)\n",
    "\n",
    "X_submit = joined_test[features_x]\n",
    "\n",
    "print('Comienzo Predict')\n",
    "y_pred_train = modelXGB.predict(X_train)\n",
    "y_pred_val = modelXGB.predict(X_val)\n",
    "y_pred_test = modelXGB.predict(X_submit)\n",
    "\n",
    "# Train\n",
    "train_RMSE = np.sqrt((((y_train['Sales'].values - y_pred_train)/y_train['Sales'].values)**2).sum()/len(y_pred_train))\n",
    "# Validación\n",
    "val_RMSE = np.sqrt((((y_val['Sales'].values - y_pred_val)/y_val['Sales'].values)**2).sum()/len(y_pred_val))\n",
    "\n",
    "print('Score, train_RMSE, val_RMSE')\n",
    "print(score, train_RMSE, val_RMSE)\n",
    "\n",
    "\n",
    "sample_csv = pd.read_csv('dataset/rossmann/sample_submission.csv')\n",
    "sample_csv['Sales'] = y_pred_test\n",
    "sample_csv.head()\n",
    "sample_csv.to_csv(f'submision_XGBBaseline.csv', index=False)"
   ]
  },
  {
   "cell_type": "code",
   "execution_count": 75,
   "metadata": {},
   "outputs": [
    {
     "name": "stdout",
     "output_type": "stream",
     "text": [
      "<class 'pandas.core.frame.DataFrame'>\n",
      "Int64Index: 915439 entries, 360498 to 121958\n",
      "Data columns (total 1 columns):\n",
      " #   Column  Non-Null Count   Dtype\n",
      "---  ------  --------------   -----\n",
      " 0   Sales   915439 non-null  int64\n",
      "dtypes: int64(1)\n",
      "memory usage: 14.0 MB\n"
     ]
    }
   ],
   "source": [
    "y_train.info()"
   ]
  },
  {
   "cell_type": "code",
   "execution_count": 73,
   "metadata": {},
   "outputs": [
    {
     "data": {
      "text/plain": [
       "<AxesSubplot:title={'center':'Feature importance'}, xlabel='F score', ylabel='Features'>"
      ]
     },
     "execution_count": 73,
     "metadata": {},
     "output_type": "execute_result"
    },
    {
     "data": {
      "image/png": "[encoded data removed]",
      "text/plain": [
       "<Figure size 432x288 with 1 Axes>"
      ]
     },
     "metadata": {
      "needs_background": "light"
     },
     "output_type": "display_data"
    }
   ],
   "source": [
    "xgb.plot_importance(modelXGB)"
   ]
  },
  {
   "cell_type": "markdown",
   "metadata": {},
   "source": [
    "submision_XGBBaseline.csv\n",
    "Private Score: 0.15162\n",
    "Public Score: 0.13718"
   ]
  },
  {
   "cell_type": "markdown",
   "metadata": {},
   "source": [
    "# Se hacen otros procesamientos en los datos para mejorar el resultado"
   ]
  },
  {
   "cell_type": "code",
   "execution_count": null,
   "metadata": {},
   "outputs": [],
   "source": [
    "#joined_train = pd.read_feather('all_preprocessed_cat_sales0_train.fth')\n",
    "#joined_test = pd.read_feather('all_preprocessed_cat_sales0_test.fth')"
   ]
  },
  {
   "cell_type": "code",
   "execution_count": 87,
   "metadata": {},
   "outputs": [
    {
     "name": "stdout",
     "output_type": "stream",
     "text": [
      "<class 'pandas.core.frame.DataFrame'>\n",
      "RangeIndex: 1017155 entries, 0 to 1017154\n",
      "Data columns (total 25 columns):\n",
      " #   Column                     Non-Null Count    Dtype         \n",
      "---  ------                     --------------    -----         \n",
      " 0   index                      1017155 non-null  int64         \n",
      " 1   Store                      1017155 non-null  int64         \n",
      " 2   DayOfWeek                  1017155 non-null  int64         \n",
      " 3   Date                       1017155 non-null  datetime64[ns]\n",
      " 4   Sales                      1017155 non-null  int64         \n",
      " 5   Open                       1017155 non-null  int64         \n",
      " 6   Promo                      1017155 non-null  int64         \n",
      " 7   StateHoliday               1017155 non-null  int8          \n",
      " 8   SchoolHoliday              1017155 non-null  int64         \n",
      " 9   DateDay                    1017155 non-null  int64         \n",
      " 10  DateWeek                   1017155 non-null  int64         \n",
      " 11  DateMonth                  1017155 non-null  int64         \n",
      " 12  DateYear                   1017155 non-null  int64         \n",
      " 13  DateDayOfYear              1017155 non-null  int64         \n",
      " 14  StoreType                  1017155 non-null  int8          \n",
      " 15  Assortment                 1017155 non-null  int8          \n",
      " 16  CompetitionDistance        1017155 non-null  float64       \n",
      " 17  CompetitionOpenSinceMonth  1017155 non-null  float64       \n",
      " 18  CompetitionOpenSinceYear   1017155 non-null  float64       \n",
      " 19  Promo2                     1017155 non-null  int64         \n",
      " 20  Promo2SinceWeek            1017155 non-null  float64       \n",
      " 21  Promo2SinceYear            1017155 non-null  float64       \n",
      " 22  PromoInterval              1017155 non-null  int8          \n",
      " 23  CompetitionOpenInt         1017155 non-null  int64         \n",
      " 24  Promo2SinceFloat           1017155 non-null  int64         \n",
      "dtypes: datetime64[ns](1), float64(5), int64(15), int8(4)\n",
      "memory usage: 166.8 MB\n"
     ]
    }
   ],
   "source": [
    "joined_train.info()"
   ]
  },
  {
   "cell_type": "code",
   "execution_count": 88,
   "metadata": {},
   "outputs": [],
   "source": [
    "#se trabaja con algunas variables\n",
    "features_x = ['Store', 'DayOfWeek', 'Open', 'Promo', 'SchoolHoliday', 'StateHoliday', 'StoreType', 'Assortment', \n",
    "                  'CompetitionDistance', 'CompetitionOpenInt', 'PromoInterval']\n",
    "features_y = ['SalesLog']"
   ]
  },
  {
   "cell_type": "code",
   "execution_count": 89,
   "metadata": {},
   "outputs": [],
   "source": [
    "#Se agregan variables referidas a la fecha\n",
    "var_name = 'Date'\n",
    "features_x.append(var_name + 'Day')\n",
    "features_x.append(var_name + 'Week')\n",
    "features_x.append(var_name + 'Month')\n",
    "features_x.append(var_name + 'Year')\n",
    "features_x.append(var_name + 'DayOfYear')"
   ]
  },
  {
   "cell_type": "code",
   "execution_count": 90,
   "metadata": {},
   "outputs": [],
   "source": [
    "#se utiliza el log de sales\n",
    "joined_train['SalesLog'] = np.log1p(joined_train['Sales']) "
   ]
  },
  {
   "cell_type": "code",
   "execution_count": 91,
   "metadata": {},
   "outputs": [
    {
     "name": "stdout",
     "output_type": "stream",
     "text": [
      "<class 'pandas.core.frame.DataFrame'>\n",
      "RangeIndex: 1017155 entries, 0 to 1017154\n",
      "Data columns (total 26 columns):\n",
      " #   Column                     Non-Null Count    Dtype         \n",
      "---  ------                     --------------    -----         \n",
      " 0   index                      1017155 non-null  int64         \n",
      " 1   Store                      1017155 non-null  int64         \n",
      " 2   DayOfWeek                  1017155 non-null  int64         \n",
      " 3   Date                       1017155 non-null  datetime64[ns]\n",
      " 4   Sales                      1017155 non-null  int64         \n",
      " 5   Open                       1017155 non-null  int64         \n",
      " 6   Promo                      1017155 non-null  int64         \n",
      " 7   StateHoliday               1017155 non-null  int8          \n",
      " 8   SchoolHoliday              1017155 non-null  int64         \n",
      " 9   DateDay                    1017155 non-null  int64         \n",
      " 10  DateWeek                   1017155 non-null  int64         \n",
      " 11  DateMonth                  1017155 non-null  int64         \n",
      " 12  DateYear                   1017155 non-null  int64         \n",
      " 13  DateDayOfYear              1017155 non-null  int64         \n",
      " 14  StoreType                  1017155 non-null  int8          \n",
      " 15  Assortment                 1017155 non-null  int8          \n",
      " 16  CompetitionDistance        1017155 non-null  float64       \n",
      " 17  CompetitionOpenSinceMonth  1017155 non-null  float64       \n",
      " 18  CompetitionOpenSinceYear   1017155 non-null  float64       \n",
      " 19  Promo2                     1017155 non-null  int64         \n",
      " 20  Promo2SinceWeek            1017155 non-null  float64       \n",
      " 21  Promo2SinceYear            1017155 non-null  float64       \n",
      " 22  PromoInterval              1017155 non-null  int8          \n",
      " 23  CompetitionOpenInt         1017155 non-null  int64         \n",
      " 24  Promo2SinceFloat           1017155 non-null  int64         \n",
      " 25  SalesLog                   1017155 non-null  float64       \n",
      "dtypes: datetime64[ns](1), float64(6), int64(15), int8(4)\n",
      "memory usage: 174.6 MB\n"
     ]
    }
   ],
   "source": [
    "joined_train.info()"
   ]
  },
  {
   "cell_type": "markdown",
   "metadata": {},
   "source": [
    "## Remove Outliers with Deviation >= 3"
   ]
  },
  {
   "cell_type": "code",
   "execution_count": 92,
   "metadata": {},
   "outputs": [],
   "source": [
    "def is_outlier(points, thresh=3.5):\n",
    "    \"\"\"\n",
    "    Returns a boolean array with True if points are outliers and False \n",
    "    otherwise.\n",
    "\n",
    "    Parameters:\n",
    "    -----------\n",
    "        points : An numobservations by numdimensions array of observations\n",
    "        thresh : The modified z-score to use as a threshold. Observations with\n",
    "            a modified z-score (based on the median absolute deviation) greater\n",
    "            than this value will be classified as outliers.\n",
    "\n",
    "    Returns:\n",
    "    --------\n",
    "        mask : A numobservations-length boolean array.\n",
    "\n",
    "    References:\n",
    "    ----------\n",
    "        Boris Iglewicz and David Hoaglin (1993), \"Volume 16: How to Detect and\n",
    "        Handle Outliers\", The ASQC Basic References in Quality Control:\n",
    "        Statistical Techniques, Edward F. Mykytka, Ph.D., Editor. \n",
    "    \"\"\"\n",
    "    if len(points.shape) == 1:\n",
    "        points = points[:,None]\n",
    "    median = np.median(points, axis=0)\n",
    "    diff = np.sum((points - median)**2, axis=-1)\n",
    "    diff = np.sqrt(diff)\n",
    "    med_abs_deviation = np.median(diff)\n",
    "\n",
    "    modified_z_score = 0.6745 * diff / med_abs_deviation\n",
    "\n",
    "    return modified_z_score > thresh"
   ]
  },
  {
   "cell_type": "code",
   "execution_count": 93,
   "metadata": {},
   "outputs": [],
   "source": [
    "for i in joined_train['Store'].unique():\n",
    "    joined_train.loc[(joined_train['Store'] == i) & (joined_train['Open'] == 1), 'Outlier'] = \\\n",
    "        is_outlier(joined_train.loc[(joined_train['Store'] == i) & (joined_train['Open'] == 1)]['Sales'], 3)"
   ]
  },
  {
   "cell_type": "code",
   "execution_count": 94,
   "metadata": {},
   "outputs": [
    {
     "name": "stdout",
     "output_type": "stream",
     "text": [
      "<class 'pandas.core.frame.DataFrame'>\n",
      "RangeIndex: 1017155 entries, 0 to 1017154\n",
      "Data columns (total 27 columns):\n",
      " #   Column                     Non-Null Count    Dtype         \n",
      "---  ------                     --------------    -----         \n",
      " 0   index                      1017155 non-null  int64         \n",
      " 1   Store                      1017155 non-null  int64         \n",
      " 2   DayOfWeek                  1017155 non-null  int64         \n",
      " 3   Date                       1017155 non-null  datetime64[ns]\n",
      " 4   Sales                      1017155 non-null  int64         \n",
      " 5   Open                       1017155 non-null  int64         \n",
      " 6   Promo                      1017155 non-null  int64         \n",
      " 7   StateHoliday               1017155 non-null  int8          \n",
      " 8   SchoolHoliday              1017155 non-null  int64         \n",
      " 9   DateDay                    1017155 non-null  int64         \n",
      " 10  DateWeek                   1017155 non-null  int64         \n",
      " 11  DateMonth                  1017155 non-null  int64         \n",
      " 12  DateYear                   1017155 non-null  int64         \n",
      " 13  DateDayOfYear              1017155 non-null  int64         \n",
      " 14  StoreType                  1017155 non-null  int8          \n",
      " 15  Assortment                 1017155 non-null  int8          \n",
      " 16  CompetitionDistance        1017155 non-null  float64       \n",
      " 17  CompetitionOpenSinceMonth  1017155 non-null  float64       \n",
      " 18  CompetitionOpenSinceYear   1017155 non-null  float64       \n",
      " 19  Promo2                     1017155 non-null  int64         \n",
      " 20  Promo2SinceWeek            1017155 non-null  float64       \n",
      " 21  Promo2SinceYear            1017155 non-null  float64       \n",
      " 22  PromoInterval              1017155 non-null  int8          \n",
      " 23  CompetitionOpenInt         1017155 non-null  int64         \n",
      " 24  Promo2SinceFloat           1017155 non-null  int64         \n",
      " 25  SalesLog                   1017155 non-null  float64       \n",
      " 26  Outlier                    844338 non-null   object        \n",
      "dtypes: datetime64[ns](1), float64(6), int64(15), int8(4), object(1)\n",
      "memory usage: 182.4+ MB\n"
     ]
    }
   ],
   "source": [
    "joined_train.info()"
   ]
  },
  {
   "cell_type": "code",
   "execution_count": 95,
   "metadata": {},
   "outputs": [
    {
     "data": {
      "image/png": "[encoded data removed]",
      "text/plain": [
       "<Figure size 1440x3600 with 10 Axes>"
      ]
     },
     "metadata": {
      "needs_background": "light"
     },
     "output_type": "display_data"
    }
   ],
   "source": [
    "no_stores_to_check = 10\n",
    "\n",
    "plt.rcParams[\"figure.figsize\"] = [20,no_stores_to_check*5]\n",
    "\n",
    "for i in range(1,no_stores_to_check+1):\n",
    "    stor = i\n",
    "\n",
    "    # Normal sales\n",
    "    X1 = joined_train.loc[(joined_train['Store'] == stor) & (joined_train['Open'] == 1) & (joined_train['Outlier'] == False)]\n",
    "    y1 = joined_train.loc[(joined_train['Store'] == stor) & (joined_train['Open'] == 1) & (joined_train['Outlier'] == False)]['Sales']\n",
    "\n",
    "    # Outliers\n",
    "    X2 = joined_train.loc[(joined_train['Store'] == stor) & (joined_train['Open'] == 1) & (joined_train['Outlier'] == True)]\n",
    "    y2 = joined_train.loc[(joined_train['Store'] == stor) & (joined_train['Open'] == 1) & (joined_train['Outlier'] == True)]['Sales']\n",
    "\n",
    "    Xt = joined_train.loc[(joined_train['Store'] == stor)]\n",
    "    \n",
    "    plt.subplot(10,5,i)\n",
    "    plt.plot(X1['Date'], y1, '-')\n",
    "    plt.plot(X2['Date'], y2, 'r.')\n",
    "    plt.title(i)\n",
    "    plt.axis('off')"
   ]
  },
  {
   "cell_type": "code",
   "execution_count": null,
   "metadata": {},
   "outputs": [],
   "source": []
  },
  {
   "cell_type": "markdown",
   "metadata": {},
   "source": [
    "# Se vuelve a ejecutar el modelo XGB"
   ]
  },
  {
   "cell_type": "code",
   "execution_count": 96,
   "metadata": {},
   "outputs": [],
   "source": [
    "X_train, X_val, y_train, y_val = train_test_split(joined_train.loc[(joined_train['Open'] == 1) & (joined_train['Outlier'] == False)][features_x],\n",
    "                                                    joined_train.loc[(joined_train['Open'] == 1) & (joined_train['Outlier'] == False)][features_y],\n",
    "                                                    test_size=0.1, random_state=seed)"
   ]
  },
  {
   "cell_type": "code",
   "execution_count": 97,
   "metadata": {},
   "outputs": [
    {
     "name": "stdout",
     "output_type": "stream",
     "text": [
      "XGBRegressor(base_score=None, booster=None, colsample_bylevel=None,\n",
      "             colsample_bynode=None, colsample_bytree=None, gamma=0.005,\n",
      "             gpu_id=None, importance_type='gain', interaction_constraints=None,\n",
      "             learning_rate=0.25, max_delta_step=None, max_depth=8,\n",
      "             min_child_weight=None, missing=nan, monotone_constraints=None,\n",
      "             n_estimators=4000, n_jobs=12, num_parallel_tree=None,\n",
      "             random_state=None, reg_alpha=None, reg_lambda=None,\n",
      "             scale_pos_weight=None, subsample=None, tree_method=None,\n",
      "             validate_parameters=None, verbosity=None)\n"
     ]
    }
   ],
   "source": [
    "n_estimators=4000\n",
    "learning_rate=0.25\n",
    "modelXGB = XGBRegressor(n_estimators=n_estimators, learning_rate=learning_rate, \n",
    "                 objective='reg:squarederror', n_jobs=12, max_depth=8, gamma=0.005)\n",
    "print(modelXGB)\n",
    "\n",
    "fit_params={\"early_stopping_rounds\":100, \n",
    "            \"eval_metric\" : 'rmse', \n",
    "            \"eval_set\" : [(X_val, y_val)],\n",
    "            'verbose': 100,\n",
    "           }"
   ]
  },
  {
   "cell_type": "code",
   "execution_count": 98,
   "metadata": {},
   "outputs": [
    {
     "name": "stdout",
     "output_type": "stream",
     "text": [
      "['Store', 'DayOfWeek', 'Open', 'Promo', 'SchoolHoliday', 'StateHoliday', 'StoreType', 'Assortment', 'CompetitionDistance', 'CompetitionOpenInt', 'PromoInterval', 'DateDay', 'DateWeek', 'DateMonth', 'DateYear', 'DateDayOfYear']\n",
      "['SalesLog']\n"
     ]
    }
   ],
   "source": [
    "print(features_x)\n",
    "print(features_y)"
   ]
  },
  {
   "cell_type": "code",
   "execution_count": 99,
   "metadata": {},
   "outputs": [
    {
     "data": {
      "text/plain": [
       "(748223, 16)"
      ]
     },
     "execution_count": 99,
     "metadata": {},
     "output_type": "execute_result"
    }
   ],
   "source": [
    "X_train.shape"
   ]
  },
  {
   "cell_type": "code",
   "execution_count": 100,
   "metadata": {},
   "outputs": [
    {
     "name": "stdout",
     "output_type": "stream",
     "text": [
      "<class 'pandas.core.frame.DataFrame'>\n",
      "Int64Index: 748223 entries, 93461 to 150769\n",
      "Data columns (total 16 columns):\n",
      " #   Column               Non-Null Count   Dtype  \n",
      "---  ------               --------------   -----  \n",
      " 0   Store                748223 non-null  int64  \n",
      " 1   DayOfWeek            748223 non-null  int64  \n",
      " 2   Open                 748223 non-null  int64  \n",
      " 3   Promo                748223 non-null  int64  \n",
      " 4   SchoolHoliday        748223 non-null  int64  \n",
      " 5   StateHoliday         748223 non-null  int8   \n",
      " 6   StoreType            748223 non-null  int8   \n",
      " 7   Assortment           748223 non-null  int8   \n",
      " 8   CompetitionDistance  748223 non-null  float64\n",
      " 9   CompetitionOpenInt   748223 non-null  int64  \n",
      " 10  PromoInterval        748223 non-null  int8   \n",
      " 11  DateDay              748223 non-null  int64  \n",
      " 12  DateWeek             748223 non-null  int64  \n",
      " 13  DateMonth            748223 non-null  int64  \n",
      " 14  DateYear             748223 non-null  int64  \n",
      " 15  DateDayOfYear        748223 non-null  int64  \n",
      "dtypes: float64(1), int64(11), int8(4)\n",
      "memory usage: 77.1 MB\n"
     ]
    }
   ],
   "source": [
    "X_train.info()"
   ]
  },
  {
   "cell_type": "code",
   "execution_count": 101,
   "metadata": {},
   "outputs": [
    {
     "data": {
      "text/html": [
       "<div>\n",
       "<style scoped>\n",
       "    .dataframe tbody tr th:only-of-type {\n",
       "        vertical-align: middle;\n",
       "    }\n",
       "\n",
       "    .dataframe tbody tr th {\n",
       "        vertical-align: top;\n",
       "    }\n",
       "\n",
       "    .dataframe thead th {\n",
       "        text-align: right;\n",
       "    }\n",
       "</style>\n",
       "<table border=\"1\" class=\"dataframe\">\n",
       "  <thead>\n",
       "    <tr style=\"text-align: right;\">\n",
       "      <th></th>\n",
       "      <th>Store</th>\n",
       "      <th>DayOfWeek</th>\n",
       "      <th>Open</th>\n",
       "      <th>Promo</th>\n",
       "      <th>SchoolHoliday</th>\n",
       "      <th>StateHoliday</th>\n",
       "      <th>StoreType</th>\n",
       "      <th>Assortment</th>\n",
       "      <th>CompetitionDistance</th>\n",
       "      <th>CompetitionOpenInt</th>\n",
       "      <th>PromoInterval</th>\n",
       "      <th>DateDay</th>\n",
       "      <th>DateWeek</th>\n",
       "      <th>DateMonth</th>\n",
       "      <th>DateYear</th>\n",
       "      <th>DateDayOfYear</th>\n",
       "    </tr>\n",
       "  </thead>\n",
       "  <tbody>\n",
       "    <tr>\n",
       "      <th>93461</th>\n",
       "      <td>918</td>\n",
       "      <td>6</td>\n",
       "      <td>1</td>\n",
       "      <td>0</td>\n",
       "      <td>0</td>\n",
       "      <td>0</td>\n",
       "      <td>0</td>\n",
       "      <td>2</td>\n",
       "      <td>18710.0</td>\n",
       "      <td>1427846400000000000</td>\n",
       "      <td>0</td>\n",
       "      <td>9</td>\n",
       "      <td>19</td>\n",
       "      <td>5</td>\n",
       "      <td>2015</td>\n",
       "      <td>129</td>\n",
       "    </tr>\n",
       "    <tr>\n",
       "      <th>206818</th>\n",
       "      <td>547</td>\n",
       "      <td>2</td>\n",
       "      <td>1</td>\n",
       "      <td>1</td>\n",
       "      <td>0</td>\n",
       "      <td>0</td>\n",
       "      <td>3</td>\n",
       "      <td>2</td>\n",
       "      <td>8990.0</td>\n",
       "      <td>1257033600000000000</td>\n",
       "      <td>3</td>\n",
       "      <td>27</td>\n",
       "      <td>5</td>\n",
       "      <td>1</td>\n",
       "      <td>2015</td>\n",
       "      <td>27</td>\n",
       "    </tr>\n",
       "    <tr>\n",
       "      <th>356489</th>\n",
       "      <td>527</td>\n",
       "      <td>1</td>\n",
       "      <td>1</td>\n",
       "      <td>0</td>\n",
       "      <td>0</td>\n",
       "      <td>0</td>\n",
       "      <td>3</td>\n",
       "      <td>2</td>\n",
       "      <td>5830.0</td>\n",
       "      <td>1207008000000000000</td>\n",
       "      <td>0</td>\n",
       "      <td>25</td>\n",
       "      <td>35</td>\n",
       "      <td>8</td>\n",
       "      <td>2014</td>\n",
       "      <td>237</td>\n",
       "    </tr>\n",
       "    <tr>\n",
       "      <th>621822</th>\n",
       "      <td>473</td>\n",
       "      <td>6</td>\n",
       "      <td>1</td>\n",
       "      <td>0</td>\n",
       "      <td>0</td>\n",
       "      <td>0</td>\n",
       "      <td>0</td>\n",
       "      <td>0</td>\n",
       "      <td>50.0</td>\n",
       "      <td>631152000000000000</td>\n",
       "      <td>0</td>\n",
       "      <td>21</td>\n",
       "      <td>51</td>\n",
       "      <td>12</td>\n",
       "      <td>2013</td>\n",
       "      <td>355</td>\n",
       "    </tr>\n",
       "    <tr>\n",
       "      <th>805940</th>\n",
       "      <td>620</td>\n",
       "      <td>2</td>\n",
       "      <td>1</td>\n",
       "      <td>0</td>\n",
       "      <td>0</td>\n",
       "      <td>0</td>\n",
       "      <td>3</td>\n",
       "      <td>2</td>\n",
       "      <td>5440.0</td>\n",
       "      <td>631152000000000000</td>\n",
       "      <td>2</td>\n",
       "      <td>9</td>\n",
       "      <td>28</td>\n",
       "      <td>7</td>\n",
       "      <td>2013</td>\n",
       "      <td>190</td>\n",
       "    </tr>\n",
       "  </tbody>\n",
       "</table>\n",
       "</div>"
      ],
      "text/plain": [
       "        Store  DayOfWeek  Open  Promo  SchoolHoliday  StateHoliday  StoreType  Assortment  CompetitionDistance   CompetitionOpenInt  PromoInterval  DateDay  DateWeek  DateMonth  DateYear  DateDayOfYear\n",
       "93461     918          6     1      0              0             0          0           2              18710.0  1427846400000000000              0        9        19          5      2015            129\n",
       "206818    547          2     1      1              0             0          3           2               8990.0  1257033600000000000              3       27         5          1      2015             27\n",
       "356489    527          1     1      0              0             0          3           2               5830.0  1207008000000000000              0       25        35          8      2014            237\n",
       "621822    473          6     1      0              0             0          0           0                 50.0   631152000000000000              0       21        51         12      2013            355\n",
       "805940    620          2     1      0              0             0          3           2               5440.0   631152000000000000              2        9        28          7      2013            190"
      ]
     },
     "execution_count": 101,
     "metadata": {},
     "output_type": "execute_result"
    }
   ],
   "source": [
    "X_train.head(5)"
   ]
  },
  {
   "cell_type": "code",
   "execution_count": 102,
   "metadata": {},
   "outputs": [
    {
     "data": {
      "text/plain": [
       "(748223, 1)"
      ]
     },
     "execution_count": 102,
     "metadata": {},
     "output_type": "execute_result"
    }
   ],
   "source": [
    "y_train.shape"
   ]
  },
  {
   "cell_type": "code",
   "execution_count": 103,
   "metadata": {},
   "outputs": [
    {
     "name": "stdout",
     "output_type": "stream",
     "text": [
      "<class 'pandas.core.frame.DataFrame'>\n",
      "Int64Index: 748223 entries, 93461 to 150769\n",
      "Data columns (total 1 columns):\n",
      " #   Column    Non-Null Count   Dtype  \n",
      "---  ------    --------------   -----  \n",
      " 0   SalesLog  748223 non-null  float64\n",
      "dtypes: float64(1)\n",
      "memory usage: 11.4 MB\n"
     ]
    }
   ],
   "source": [
    "y_train.info()"
   ]
  },
  {
   "cell_type": "code",
   "execution_count": 104,
   "metadata": {},
   "outputs": [
    {
     "data": {
      "text/html": [
       "<div>\n",
       "<style scoped>\n",
       "    .dataframe tbody tr th:only-of-type {\n",
       "        vertical-align: middle;\n",
       "    }\n",
       "\n",
       "    .dataframe tbody tr th {\n",
       "        vertical-align: top;\n",
       "    }\n",
       "\n",
       "    .dataframe thead th {\n",
       "        text-align: right;\n",
       "    }\n",
       "</style>\n",
       "<table border=\"1\" class=\"dataframe\">\n",
       "  <thead>\n",
       "    <tr style=\"text-align: right;\">\n",
       "      <th></th>\n",
       "      <th>SalesLog</th>\n",
       "    </tr>\n",
       "  </thead>\n",
       "  <tbody>\n",
       "    <tr>\n",
       "      <th>93461</th>\n",
       "      <td>8.163086</td>\n",
       "    </tr>\n",
       "    <tr>\n",
       "      <th>206818</th>\n",
       "      <td>8.431635</td>\n",
       "    </tr>\n",
       "    <tr>\n",
       "      <th>356489</th>\n",
       "      <td>9.170247</td>\n",
       "    </tr>\n",
       "    <tr>\n",
       "      <th>621822</th>\n",
       "      <td>8.304000</td>\n",
       "    </tr>\n",
       "    <tr>\n",
       "      <th>805940</th>\n",
       "      <td>8.660081</td>\n",
       "    </tr>\n",
       "  </tbody>\n",
       "</table>\n",
       "</div>"
      ],
      "text/plain": [
       "        SalesLog\n",
       "93461   8.163086\n",
       "206818  8.431635\n",
       "356489  9.170247\n",
       "621822  8.304000\n",
       "805940  8.660081"
      ]
     },
     "execution_count": 104,
     "metadata": {},
     "output_type": "execute_result"
    }
   ],
   "source": [
    "y_train.head(5)"
   ]
  },
  {
   "cell_type": "code",
   "execution_count": 105,
   "metadata": {},
   "outputs": [
    {
     "name": "stdout",
     "output_type": "stream",
     "text": [
      "[0]\tvalidation_0-rmse:6.19760\n",
      "[100]\tvalidation_0-rmse:0.12356\n",
      "[200]\tvalidation_0-rmse:0.10303\n",
      "[300]\tvalidation_0-rmse:0.09581\n",
      "[400]\tvalidation_0-rmse:0.09222\n",
      "[500]\tvalidation_0-rmse:0.09012\n",
      "[600]\tvalidation_0-rmse:0.08876\n",
      "[700]\tvalidation_0-rmse:0.08793\n",
      "[800]\tvalidation_0-rmse:0.08727\n",
      "[900]\tvalidation_0-rmse:0.08678\n",
      "[1000]\tvalidation_0-rmse:0.08640\n",
      "[1100]\tvalidation_0-rmse:0.08610\n",
      "[1200]\tvalidation_0-rmse:0.08597\n",
      "[1300]\tvalidation_0-rmse:0.08584\n",
      "[1400]\tvalidation_0-rmse:0.08570\n",
      "[1500]\tvalidation_0-rmse:0.08557\n",
      "[1600]\tvalidation_0-rmse:0.08551\n",
      "[1700]\tvalidation_0-rmse:0.08543\n",
      "[1800]\tvalidation_0-rmse:0.08538\n",
      "[1900]\tvalidation_0-rmse:0.08534\n",
      "[2000]\tvalidation_0-rmse:0.08534\n",
      "[2071]\tvalidation_0-rmse:0.08536\n"
     ]
    },
    {
     "data": {
      "text/plain": [
       "XGBRegressor(base_score=0.5, booster='gbtree', colsample_bylevel=1,\n",
       "             colsample_bynode=1, colsample_bytree=1, gamma=0.005, gpu_id=-1,\n",
       "             importance_type='gain', interaction_constraints='',\n",
       "             learning_rate=0.25, max_delta_step=0, max_depth=8,\n",
       "             min_child_weight=1, missing=nan, monotone_constraints='()',\n",
       "             n_estimators=4000, n_jobs=12, num_parallel_tree=1, random_state=0,\n",
       "             reg_alpha=0, reg_lambda=1, scale_pos_weight=1, subsample=1,\n",
       "             tree_method='exact', validate_parameters=1, verbosity=None)"
      ]
     },
     "execution_count": 105,
     "metadata": {},
     "output_type": "execute_result"
    }
   ],
   "source": [
    "modelXGB.fit(X_train, y_train, **fit_params)"
   ]
  },
  {
   "cell_type": "code",
   "execution_count": 106,
   "metadata": {},
   "outputs": [],
   "source": [
    "score = modelXGB.score(X_val, y_val)"
   ]
  },
  {
   "cell_type": "code",
   "execution_count": 107,
   "metadata": {},
   "outputs": [],
   "source": [
    "X_submit = joined_test[features_x]"
   ]
  },
  {
   "cell_type": "code",
   "execution_count": 108,
   "metadata": {},
   "outputs": [],
   "source": [
    "y_pred_train = np.exp(modelXGB.predict(X_train))\n",
    "y_pred_val = np.exp(modelXGB.predict(X_val))\n",
    "y_pred_test = np.exp(modelXGB.predict(X_submit))"
   ]
  },
  {
   "cell_type": "code",
   "execution_count": 109,
   "metadata": {},
   "outputs": [],
   "source": [
    "# Train\n",
    "train_RMSE = np.sqrt((((y_train['SalesLog'].values - np.log1p(y_pred_train))/y_train['SalesLog'].values)**2).sum()/len(y_pred_train))\n",
    "# Validación\n",
    "val_RMSE = np.sqrt((((y_val['SalesLog'].values - np.log1p(y_pred_val))/y_val['SalesLog'].values)**2).sum()/len(y_pred_val))"
   ]
  },
  {
   "cell_type": "code",
   "execution_count": 110,
   "metadata": {},
   "outputs": [
    {
     "name": "stdout",
     "output_type": "stream",
     "text": [
      "0.9584268615457237 0.006950153670063918 0.01002622312033552\n"
     ]
    }
   ],
   "source": [
    "print(score, train_RMSE, val_RMSE)"
   ]
  },
  {
   "cell_type": "code",
   "execution_count": 112,
   "metadata": {},
   "outputs": [
    {
     "data": {
      "text/plain": [
       "<AxesSubplot:title={'center':'Feature importance'}, xlabel='F score', ylabel='Features'>"
      ]
     },
     "execution_count": 112,
     "metadata": {},
     "output_type": "execute_result"
    },
    {
     "data": {
      "image/png": "[encoded data removed]",
      "text/plain": [
       "<Figure size 1440x3600 with 1 Axes>"
      ]
     },
     "metadata": {
      "needs_background": "light"
     },
     "output_type": "display_data"
    }
   ],
   "source": [
    "xgb.plot_importance(modelXGB)"
   ]
  },
  {
   "cell_type": "code",
   "execution_count": 113,
   "metadata": {},
   "outputs": [],
   "source": [
    "sample_csv = pd.read_csv('dataset/rossmann/sample_submission.csv')\n",
    "sample_csv['Sales'] = y_pred_test\n",
    "sample_csv.head()\n",
    "\n",
    "sample_csv.to_csv(f'submision_XGBProcesado.csv', index=False)"
   ]
  },
  {
   "cell_type": "markdown",
   "metadata": {},
   "source": [
    "Private score: 0.12048\n",
    "Public Score: 0.11426"
   ]
  }
 ],
 "metadata": {
  "colab": {
   "collapsed_sections": [],
   "name": "TP2.ipynb",
   "provenance": []
  },
  "kernelspec": {
   "display_name": "Python 3",
   "language": "python",
   "name": "python3"
  },
  "language_info": {
   "codemirror_mode": {
    "name": "ipython",
    "version": 3
   },
   "file_extension": ".py",
   "mimetype": "text/x-python",
   "name": "python",
   "nbconvert_exporter": "python",
   "pygments_lexer": "ipython3",
   "version": "3.7.7"
  }
 },
 "nbformat": 4,
 "nbformat_minor": 1
}
